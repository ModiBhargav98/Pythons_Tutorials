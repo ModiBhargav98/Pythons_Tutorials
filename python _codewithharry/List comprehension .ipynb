{
 "cells": [
  {
   "cell_type": "code",
   "execution_count": 1,
   "metadata": {},
   "outputs": [
    {
     "name": "stdout",
     "output_type": "stream",
     "text": [
      "[0, 5, 10, 15, 20, 25, 30, 35, 40, 45]\n"
     ]
    }
   ],
   "source": [
    "listA = [i for i in range(50) if i%5==0]\n",
    "print(listA)"
   ]
  },
  {
   "cell_type": "code",
   "execution_count": 2,
   "metadata": {},
   "outputs": [
    {
     "name": "stdout",
     "output_type": "stream",
     "text": [
      "{'c', 'a', 'b', 'd'}\n"
     ]
    }
   ],
   "source": [
    " alpha = {alpha for alpha in [\"a\", \"a\", \"b\", \"c\", \"d\", \"d\"]}\n",
    "print(alpha)"
   ]
  },
  {
   "cell_type": "code",
   "execution_count": 3,
   "metadata": {},
   "outputs": [
    {
     "name": "stdout",
     "output_type": "stream",
     "text": [
      "{0: 'Item 0', 1: 'Item 1', 2: 'Item 2', 3: 'Item 3', 4: 'Item 4'}\n"
     ]
    }
   ],
   "source": [
    "Compdict = {i:f\"Item {i}\" for i in range(5)}\n",
    "print(Compdict)"
   ]
  },
  {
   "cell_type": "code",
   "execution_count": 4,
   "metadata": {},
   "outputs": [
    {
     "name": "stdout",
     "output_type": "stream",
     "text": [
      "<generator object gener at 0x0000021D58F075C8>\n",
      "0\n",
      "1\n"
     ]
    }
   ],
   "source": [
    "def gener(n):\n",
    "    for i in range(n):\n",
    "        yield i\n",
    "\n",
    "a = gener(5)\n",
    "print(a)\n",
    "print(a.__next__())\n",
    "print(a.__next__())"
   ]
  },
  {
   "cell_type": "code",
   "execution_count": 5,
   "metadata": {},
   "outputs": [
    {
     "ename": "NameError",
     "evalue": "name 'n' is not defined",
     "output_type": "error",
     "traceback": [
      "\u001b[1;31m---------------------------------------------------------------------------\u001b[0m",
      "\u001b[1;31mNameError\u001b[0m                                 Traceback (most recent call last)",
      "\u001b[1;32m<ipython-input-5-651f3c18c124>\u001b[0m in \u001b[0;36m<module>\u001b[1;34m\u001b[0m\n\u001b[1;32m----> 1\u001b[1;33m \u001b[0mgener\u001b[0m \u001b[1;33m=\u001b[0m \u001b[1;33m(\u001b[0m\u001b[0mi\u001b[0m \u001b[1;32mfor\u001b[0m \u001b[0mi\u001b[0m \u001b[1;32min\u001b[0m \u001b[0mrange\u001b[0m\u001b[1;33m(\u001b[0m\u001b[0mn\u001b[0m\u001b[1;33m)\u001b[0m\u001b[1;33m)\u001b[0m\u001b[1;33m\u001b[0m\u001b[1;33m\u001b[0m\u001b[0m\n\u001b[0m\u001b[0;32m      2\u001b[0m \u001b[0ma\u001b[0m \u001b[1;33m=\u001b[0m \u001b[0mgener\u001b[0m\u001b[1;33m(\u001b[0m\u001b[1;36m5\u001b[0m\u001b[1;33m)\u001b[0m\u001b[1;33m\u001b[0m\u001b[1;33m\u001b[0m\u001b[0m\n\u001b[0;32m      3\u001b[0m \u001b[0mprint\u001b[0m\u001b[1;33m(\u001b[0m\u001b[0ma\u001b[0m\u001b[1;33m.\u001b[0m\u001b[0m__next__\u001b[0m\u001b[1;33m(\u001b[0m\u001b[1;33m)\u001b[0m\u001b[1;33m)\u001b[0m\u001b[1;33m\u001b[0m\u001b[1;33m\u001b[0m\u001b[0m\n",
      "\u001b[1;31mNameError\u001b[0m: name 'n' is not defined"
     ]
    }
   ],
   "source": [
    "gener = (i for i in range(n))\n",
    "a = gener(5)\n",
    "print(a.__next__())"
   ]
  },
  {
   "cell_type": "code",
   "execution_count": null,
   "metadata": {},
   "outputs": [],
   "source": [
    "\n",
    "ls = []\n",
    "for i in range(100):\n",
    "    if i%3==0:\n",
    "        ls.append(i)\n",
    "\n",
    "ls = [i for i in range(100) if i%3==0]\n",
    "\n",
    "print(ls)\n",
    "\n",
    "\n",
    "dict1 = {i:f\"item {i}\" for i in range(1, 10001) if i%100==0}\n",
    "dict1 = {i:f\"Item {i}\" for i in range(5)}\n",
    "\n",
    "dict2 = {value:key for key,value in dict1.items()}\n",
    "print(dict1,\"\\n\", dict2)\n",
    "\n",
    "dresses = [dress for dress in [\"dress1\", \"dress2\",\"dress1\",\n",
    "                               \"dress2\",\"dress1\", \"dress2\"]]\n",
    "print(type(dresses))\n",
    "\n",
    "evens = (i for i in range(100) if i%2==0)\n",
    "print(evens.__next__())\n",
    "\n",
    "for item in evens:\n",
    "    print(item)"
   ]
  },
  {
   "cell_type": "code",
   "execution_count": null,
   "metadata": {},
   "outputs": [],
   "source": [
    "for i in ['C','O','D','E']:\n",
    " print(i)\n",
    "else: \n",
    "    print(\"Statement successfully executed\")"
   ]
  },
  {
   "cell_type": "code",
   "execution_count": null,
   "metadata": {},
   "outputs": [],
   "source": [
    "\n",
    "khana = [\"roti\", \"Sabzi\", \"chawal\"]\n",
    "\n",
    "for item in khana:\n",
    "    if item == \"rotiroll\":\n",
    "        break\n",
    "\n",
    "else:\n",
    "    print(\"Your item was not found\")"
   ]
  },
  {
   "cell_type": "code",
   "execution_count": null,
   "metadata": {},
   "outputs": [],
   "source": [
    "#function cahing in file \n",
    "import time\n",
    "from functools import lru_cache\n",
    "\n",
    "@lru_cache(maxsize=32)\n",
    "def some_work(n):\n",
    "    #Some task taking n seconds\n",
    "    time.sleep(n)\n",
    "    return n\n",
    "\n",
    "if __name__ == '__main__':\n",
    "    print(\"Now running some work\")\n",
    "    some_work(3)\n",
    "    some_work(1)\n",
    "    some_work(6)\n",
    "    some_work(2)\n",
    "    print(\"Done... Calling again\")\n",
    "    input()\n",
    "    some_work(5)\n",
    "    print(\"Called again\")"
   ]
  },
  {
   "cell_type": "code",
   "execution_count": null,
   "metadata": {},
   "outputs": [],
   "source": []
  },
  {
   "cell_type": "code",
   "execution_count": null,
   "metadata": {},
   "outputs": [],
   "source": []
  },
  {
   "cell_type": "code",
   "execution_count": null,
   "metadata": {},
   "outputs": [],
   "source": []
  }
 ],
 "metadata": {
  "kernelspec": {
   "display_name": "Python 3",
   "language": "python",
   "name": "python3"
  },
  "language_info": {
   "codemirror_mode": {
    "name": "ipython",
    "version": 3
   },
   "file_extension": ".py",
   "mimetype": "text/x-python",
   "name": "python",
   "nbconvert_exporter": "python",
   "pygments_lexer": "ipython3",
   "version": "3.7.6"
  }
 },
 "nbformat": 4,
 "nbformat_minor": 4
}
