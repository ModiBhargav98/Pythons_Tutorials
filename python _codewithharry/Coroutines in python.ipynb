{
 "cells": [
  {
   "cell_type": "code",
   "execution_count": 2,
   "metadata": {},
   "outputs": [
    {
     "name": "stdout",
     "output_type": "stream",
     "text": [
      "search started\n",
      "Next method run\n",
      "Your text is in the book\n",
      "Your text is in the book\n",
      "press any key6\n",
      "Text is not in the book\n",
      "press any key5\n",
      "Text is not in the book\n",
      "press any key6\n",
      "Text is not in the book\n"
     ]
    }
   ],
   "source": [
    "\n",
    "def searcher():\n",
    "    import time\n",
    "    # Some 4 seconds time consuming task\n",
    "    book = \"This is a book on Bhargav and code with Bhargav and good\"\n",
    "    time.sleep(4)\n",
    "\n",
    "    while True:\n",
    "        text = (yield)\n",
    "        if text in book:\n",
    "            print(\"Your text is in the book\")\n",
    "        else:\n",
    "            print(\"Text is not in the book\")\n",
    "\n",
    "search = searcher()\n",
    "print(\"search started\")\n",
    "next(search)  #jase hi mene next method run kiya fir print method ki 4 seconds bad me ae run hoga\n",
    "print(\"Next method run\")\n",
    "search.send(\"Bhargav\")\n",
    "search.send(\"Bhargav and\")\n",
    "input(\"press any key\")\n",
    "search.send(\"thi si\")\n",
    "input(\"press any key\")\n",
    "search.send(\"joker\")\n",
    "input(\"press any key\")\n",
    "search.send(\"like this video\")\n",
    "# search.close()  # run thati methods ne close karne keliye"
   ]
  },
  {
   "cell_type": "code",
   "execution_count": null,
   "metadata": {},
   "outputs": [],
   "source": []
  }
 ],
 "metadata": {
  "kernelspec": {
   "display_name": "Python 3",
   "language": "python",
   "name": "python3"
  },
  "language_info": {
   "codemirror_mode": {
    "name": "ipython",
    "version": 3
   },
   "file_extension": ".py",
   "mimetype": "text/x-python",
   "name": "python",
   "nbconvert_exporter": "python",
   "pygments_lexer": "ipython3",
   "version": "3.7.6"
  }
 },
 "nbformat": 4,
 "nbformat_minor": 4
}
