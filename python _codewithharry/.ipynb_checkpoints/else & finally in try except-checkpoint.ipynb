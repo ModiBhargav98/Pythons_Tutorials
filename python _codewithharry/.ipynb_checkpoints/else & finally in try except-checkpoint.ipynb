{
 "cells": [
  {
   "cell_type": "code",
   "execution_count": 4,
   "metadata": {},
   "outputs": [
    {
     "name": "stdout",
     "output_type": "stream",
     "text": [
      "Print IO error aa gaya hai [Errno 2] No such file or directory: 'does2.txt'\n",
      "Run this anyway...\n",
      "Important stuff\n"
     ]
    }
   ],
   "source": [
    "f1 = open(\"harry2.txt\")\n",
    "\n",
    "try:\n",
    "    f = open(\"does2.txt\")\n",
    "\n",
    "# except Exception as e: jo try ni file open na thy ane error na lavi ane run karvau hoy tare exception as e no use thy\n",
    "#     print(e)\n",
    "    \n",
    "except EOFError as e:  #je error avi hoy te batavi hoy tare taneo use thy\n",
    "    print(\"Print eof error aa gaya hai\", e)\n",
    "\n",
    "except IOError as e:    #je error avi hoy te batavi hoy tare taneo use thy\n",
    "    print(\"Print IO error aa gaya hai\", e)\n",
    "            #ane try ni file open na thy tare exception in error ave tare else part run na thy\n",
    "else:       #ane jayare try file open thy ane exception ma erroe ave tare else part run thy\n",
    "    print(\"This will run only if except is not running\")\n",
    "\n",
    "finally: #ane finally methods no use ae run thavu joei biju kei run thy ke nathy\n",
    "    print(\"Run this anyway...\")\n",
    "    # f.close()\n",
    "    f1.close()\n",
    "\n",
    "print(\"Important stuff\") #ok"
   ]
  },
  {
   "cell_type": "code",
   "execution_count": null,
   "metadata": {},
   "outputs": [],
   "source": []
  }
 ],
 "metadata": {
  "kernelspec": {
   "display_name": "Python 3",
   "language": "python",
   "name": "python3"
  },
  "language_info": {
   "codemirror_mode": {
    "name": "ipython",
    "version": 3
   },
   "file_extension": ".py",
   "mimetype": "text/x-python",
   "name": "python",
   "nbconvert_exporter": "python",
   "pygments_lexer": "ipython3",
   "version": "3.7.6"
  }
 },
 "nbformat": 4,
 "nbformat_minor": 4
}
