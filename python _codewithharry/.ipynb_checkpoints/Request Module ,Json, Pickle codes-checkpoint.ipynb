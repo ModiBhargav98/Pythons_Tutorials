{
 "cells": [
  {
   "cell_type": "code",
   "execution_count": 11,
   "metadata": {},
   "outputs": [
    {
     "name": "stdout",
     "output_type": "stream",
     "text": [
      "Page not found\n",
      "404\n"
     ]
    }
   ],
   "source": [
    "import requests\n",
    "r = requests.get('https://financialmodelingprep.com/api/company/price/AAPL')\n",
    "print(r.text)\n",
    "print(r.status_code)"
   ]
  },
  {
   "cell_type": "code",
   "execution_count": 17,
   "metadata": {},
   "outputs": [
    {
     "name": "stdout",
     "output_type": "stream",
     "text": [
      "{\"var1\":\"harry\",\"var2\":56}\n",
      "<class 'dict'>\n",
      "{\"channel_name\": \"codewithharry\", \"course\": [\"pyrhon\", \"audi-08\"], \"fridge\": [\"roti\", 540], \"isbad\": false}\n"
     ]
    }
   ],
   "source": [
    "import json\n",
    "\n",
    "data = '{\"var1\":\"harry\",\"var2\":56}'\n",
    "print(data)\n",
    "\n",
    "parsed = json.loads(data)\n",
    "print(type(parsed))\n",
    "\n",
    "data2 = {\n",
    "    \"channel_name\":\"codewithharry\",\n",
    "    \"course\":[\"pyrhon\",\"audi-08\"],\n",
    "    \"fridge\":('roti',540),\n",
    "    \"isbad\":False\n",
    "}\n",
    "data3 = json.dumps(data2)\n",
    "print(data3)"
   ]
  },
  {
   "cell_type": "code",
   "execution_count": 28,
   "metadata": {},
   "outputs": [
    {
     "ename": "UnpicklingError",
     "evalue": "invalid load key, ' '.",
     "output_type": "error",
     "traceback": [
      "\u001b[1;31m---------------------------------------------------------------------------\u001b[0m",
      "\u001b[1;31mUnpicklingError\u001b[0m                           Traceback (most recent call last)",
      "\u001b[1;32m<ipython-input-28-39829f4a1625>\u001b[0m in \u001b[0;36m<module>\u001b[1;34m\u001b[0m\n\u001b[0;32m      8\u001b[0m \u001b[0mfile\u001b[0m \u001b[1;33m=\u001b[0m \u001b[1;34m\"mycar.pkl\"\u001b[0m\u001b[1;33m\u001b[0m\u001b[1;33m\u001b[0m\u001b[0m\n\u001b[0;32m      9\u001b[0m \u001b[0mfiles\u001b[0m \u001b[1;33m=\u001b[0m \u001b[0mopen\u001b[0m\u001b[1;33m(\u001b[0m\u001b[0mfile\u001b[0m\u001b[1;33m,\u001b[0m\u001b[1;34m\"rb\"\u001b[0m\u001b[1;33m)\u001b[0m\u001b[1;33m\u001b[0m\u001b[1;33m\u001b[0m\u001b[0m\n\u001b[1;32m---> 10\u001b[1;33m \u001b[0mmycar\u001b[0m \u001b[1;33m=\u001b[0m \u001b[0mpickle\u001b[0m\u001b[1;33m.\u001b[0m\u001b[0mload\u001b[0m\u001b[1;33m(\u001b[0m\u001b[0mfiles\u001b[0m\u001b[1;33m)\u001b[0m\u001b[1;33m\u001b[0m\u001b[1;33m\u001b[0m\u001b[0m\n\u001b[0m\u001b[0;32m     11\u001b[0m \u001b[0mprint\u001b[0m\u001b[1;33m(\u001b[0m\u001b[0mmycar\u001b[0m\u001b[1;33m)\u001b[0m\u001b[1;33m\u001b[0m\u001b[1;33m\u001b[0m\u001b[0m\n",
      "\u001b[1;31mUnpicklingError\u001b[0m: invalid load key, ' '."
     ]
    }
   ],
   "source": [
    "import pickle\n",
    "# cars = ['modi','bhargav','maruti suziki']\n",
    "# file = 'mycar.pkl'\n",
    "# fileobj = open(file,'wb')\n",
    "# pickle.dump(cars,fileobj)\n",
    "# fileobj.close()\n",
    "\n",
    "file = \"mycar.pkl\"\n",
    "files = open(file, \"rb\")\n",
    "mycar = pickle.load(files)\n",
    "print(mycar)"
   ]
  },
  {
   "cell_type": "code",
   "execution_count": null,
   "metadata": {},
   "outputs": [],
   "source": []
  }
 ],
 "metadata": {
  "kernelspec": {
   "display_name": "Python 3",
   "language": "python",
   "name": "python3"
  },
  "language_info": {
   "codemirror_mode": {
    "name": "ipython",
    "version": 3
   },
   "file_extension": ".py",
   "mimetype": "text/x-python",
   "name": "python",
   "nbconvert_exporter": "python",
   "pygments_lexer": "ipython3",
   "version": "3.7.6"
  }
 },
 "nbformat": 4,
 "nbformat_minor": 4
}
