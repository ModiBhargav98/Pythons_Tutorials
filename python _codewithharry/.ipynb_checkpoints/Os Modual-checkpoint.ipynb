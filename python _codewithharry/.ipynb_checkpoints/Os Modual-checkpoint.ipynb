{
 "cells": [
  {
   "cell_type": "code",
   "execution_count": 2,
   "metadata": {},
   "outputs": [],
   "source": [
    "\n",
    "import os\n",
    "# print(dir(os))\n",
    "# print(os.getcwd())\n",
    "# os.chdir(\"C://\")\n",
    "# print(os.getcwd())\n",
    "# f = open(\"harry.txt\")\n",
    "# print(os.listdir(\"C://\"))\n",
    "# os.makedirs(\"This/that\")\n",
    "# os.rename(\"harry.txt\", \"codewithharry.txt\")\n",
    "# print(os.environ.get('Path'))\n",
    "# print(os.path.join(\"C:/\", \"/harry.txt\"))\n",
    "\n",
    "# print(os.path.exists(\"C://Program Files2\"))\n",
    "# print(os.path.isfile(\"C://Program Files\"))\n"
   ]
  },
  {
   "cell_type": "code",
   "execution_count": 4,
   "metadata": {},
   "outputs": [
    {
     "ename": "TypeError",
     "evalue": "soldier() missing 2 required positional arguments: 'file' and 'format'",
     "output_type": "error",
     "traceback": [
      "\u001b[1;31m---------------------------------------------------------------------------\u001b[0m",
      "\u001b[1;31mTypeError\u001b[0m                                 Traceback (most recent call last)",
      "\u001b[1;32m<ipython-input-4-6cc5cd871a6e>\u001b[0m in \u001b[0;36m<module>\u001b[1;34m\u001b[0m\n\u001b[0;32m     21\u001b[0m             \u001b[0mi\u001b[0m \u001b[1;33m+=\u001b[0m\u001b[1;36m1\u001b[0m\u001b[1;33m\u001b[0m\u001b[1;33m\u001b[0m\u001b[0m\n\u001b[0;32m     22\u001b[0m \u001b[1;33m\u001b[0m\u001b[0m\n\u001b[1;32m---> 23\u001b[1;33m \u001b[0msoldier\u001b[0m\u001b[1;33m(\u001b[0m\u001b[1;34mr\"C:\\Users\\Haris\\Desktop\\testing\"\u001b[0m\u001b[1;33m)\u001b[0m\u001b[1;33m\u001b[0m\u001b[1;33m\u001b[0m\u001b[0m\n\u001b[0m\u001b[0;32m     24\u001b[0m \u001b[1;31m#         r\"C:\\Users\\Haris\\PycharmProjects\\PythonTuts\\ext.txt\", \".png\" )\u001b[0m\u001b[1;33m\u001b[0m\u001b[1;33m\u001b[0m\u001b[1;33m\u001b[0m\u001b[0m\n",
      "\u001b[1;31mTypeError\u001b[0m: soldier() missing 2 required positional arguments: 'file' and 'format'"
     ]
    }
   ],
   "source": [
    "\n",
    "# Oh soldier Prettify my Folder\n",
    "\n",
    "# path, dictionary file, format\n",
    "\n",
    "# def soldier(\"C://\", \"harry.txt\", \"jpg\")\n",
    "\n",
    "import os\n",
    "def soldier(path, file, format):\n",
    "    os.chdir(path)\n",
    "    i = 1\n",
    "    files = os.listdir(path)\n",
    "    with open(file) as f:\n",
    "        filelist = f.read().split(\"\\n\")\n",
    "\n",
    "    for file in files:\n",
    "        if file not in filelist:\n",
    "            os.rename(file, file.capitalize())\n",
    "\n",
    "        if os.path.splitext(file)[1] == format:\n",
    "            os.rename(file, f\"{i}{format}\")\n",
    "            i +=1\n",
    "\n",
    "soldier(r\"C:\\Users\\Haris\\Desktop\\testing\",\n",
    "        r\"C:\\Users\\Haris\\PycharmProjects\\PythonTuts\\ext.txt\", \".png\" )"
   ]
  },
  {
   "cell_type": "code",
   "execution_count": null,
   "metadata": {},
   "outputs": [],
   "source": []
  }
 ],
 "metadata": {
  "kernelspec": {
   "display_name": "Python 3",
   "language": "python",
   "name": "python3"
  },
  "language_info": {
   "codemirror_mode": {
    "name": "ipython",
    "version": 3
   },
   "file_extension": ".py",
   "mimetype": "text/x-python",
   "name": "python",
   "nbconvert_exporter": "python",
   "pygments_lexer": "ipython3",
   "version": "3.7.6"
  }
 },
 "nbformat": 4,
 "nbformat_minor": 4
}
