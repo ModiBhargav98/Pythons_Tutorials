{
 "cells": [
  {
   "cell_type": "code",
   "execution_count": 19,
   "metadata": {},
   "outputs": [
    {
     "name": "stdout",
     "output_type": "stream",
     "text": [
      "What is your Age/Year of birth\n",
      "22\n",
      "You will be 100 years old in 2098\n",
      "Enter the year you want to know your age in\n",
      "2022\n",
      "You will be 24 years old in 2022\n"
     ]
    }
   ],
   "source": [
    "yearAge = int(input(\"What is your Age/Year of birth\\n\"))\n",
    "isAge = False\n",
    "isYear = False\n",
    "\n",
    "if len(str(yearAge)) == 4:\n",
    "    isYear = True\n",
    "\n",
    "else:\n",
    "    isAge = True\n",
    "\n",
    "if(yearAge<1900 and isYear):\n",
    "    print(\"You seem to be the oldest person alive\")\n",
    "    exit()\n",
    "\n",
    "if(yearAge>2020):\n",
    "    print(\"You are not yet born\")\n",
    "    exit()\n",
    "\n",
    "if isAge:\n",
    "    yearAge = 2020 - yearAge  \n",
    "\n",
    "print(f\"You will be 100 years old in {yearAge + 100}\")\n",
    "\n",
    "interestedYear = int(input(\"Enter the year you want to know your age in\\n\"))\n",
    "\n",
    "print(f\"You will be {interestedYear - yearAge} years old in {interestedYear}\")\n"
   ]
  },
  {
   "cell_type": "code",
   "execution_count": 25,
   "metadata": {},
   "outputs": [
    {
     "name": "stdout",
     "output_type": "stream",
     "text": [
      "Enter the number of apples\n",
      "50\n",
      "Enter the minimum number to check\n",
      "1\n",
      "Enter the maximum number to check\n",
      "5\n",
      "1 is a divisor of 50\n",
      "2 is a divisor of 50\n",
      "3 is not a divisor of 50\n",
      "4 is not a divisor of 50\n",
      "5 is a divisor of 50\n"
     ]
    }
   ],
   "source": [
    "apples = int(input(\"Enter the number of apples\\n\"))\n",
    "mn = int(input(\"Enter the minimum number to check\\n\"))\n",
    "mx = int(input(\"Enter the maximum number to check\\n\"))\n",
    "\n",
    "for i in range(mn, mx+1):\n",
    "    if apples%i == 0:\n",
    "        print(f\"{i} is a divisor of {apples}\")\n",
    "    else:\n",
    "        print(f\"{i} is not a divisor of {apples}\""
   ]
  },
  {
   "cell_type": "code",
   "execution_count": 26,
   "metadata": {},
   "outputs": [
    {
     "name": "stdout",
     "output_type": "stream",
     "text": [
      "Enter the numbers of the list one by one\n",
      "\n",
      "Enter size of list\n",
      "5\n",
      "Enter list element\n",
      "5\n",
      "Enter list element\n",
      "78\n",
      "Enter list element\n",
      "9\n",
      "Enter list element\n",
      "4\n",
      "Enter list element\n",
      "3\n",
      "Your list is [5, 78, 9, 4, 3]\n",
      "\n",
      "My First reversed list of [5, 78, 9, 4, 3] is [3, 4, 9, 78, 5]\n",
      "My Second reversed list of [5, 78, 9, 4, 3] is [3, 4, 9, 78, 5]\n",
      "My Third reversed list of [5, 78, 9, 4, 3] is [3, 4, 9, 78, 5]\n",
      "All three methods give same result\n",
      "\n"
     ]
    }
   ],
   "source": [
    "#You visited a restaurant called modi, and the food items in that restaurant are sorted, based on their amount of calories. You have to reserve this list of food items containing calories.\n",
    "# Python practice problem 3 solution\n",
    "\n",
    "# Take the size of the list from the user\n",
    "print(\"Enter the numbers of the list one by one\\n\")\n",
    "size = int(input(\"Enter size of list\\n\"))\n",
    "\n",
    "# Initialize a blank list\n",
    "mylist = []\n",
    "\n",
    "# Take the input from the user one by one\n",
    "for i in range(size):\n",
    "    mylist.append(int(input(\"Enter list element\\n\")))\n",
    "\n",
    "# mylist = [7,3,2, 34, 1,0]\n",
    "print(f\"Your list is {mylist}\\n\")\n",
    "\n",
    "reverse1 = mylist[:]\n",
    "reverse1.reverse()\n",
    "\n",
    "reverse2 = mylist[::-1]\n",
    "print(f\"My First reversed list of {mylist} is {reverse1}\")\n",
    "print(f\"My Second reversed list of {mylist} is {reverse2}\")\n",
    "\n",
    "reverse3 = mylist[:]\n",
    "for i in range(len(reverse3)//2):\n",
    "    reverse3[i], reverse3[len(reverse3) -i -1] = reverse3[len(reverse3) -i -1], reverse3[i] \n",
    "    # print(f\"the reversed list at i={i} is {reverse3}\")\n",
    "    \n",
    "\n",
    "print(f\"My Third reversed list of {mylist} is {reverse3}\")\n",
    "if reverse1 == reverse2 and reverse2 == reverse3:\n",
    "    print(\"All three methods give same result\\n\")"
   ]
  },
  {
   "cell_type": "code",
   "execution_count": 36,
   "metadata": {},
   "outputs": [
    {
     "name": "stdout",
     "output_type": "stream",
     "text": [
      "the reversed list at i=1 is [5, 8, 9, 1]\n"
     ]
    }
   ],
   "source": [
    "mylist = [5,8,9,1]\n",
    "reverse3 = mylist[:]\n",
    "for i in range(len(reverse3)//2):\n",
    "    reverse3[len(reverse3) -i -1] = reverse3[len(reverse3) -i -1]#, reverse3[i] \n",
    "print(f\"the reversed list at i={i} is {reverse3}\")"
   ]
  },
  {
   "cell_type": "code",
   "execution_count": 1,
   "metadata": {},
   "outputs": [
    {
     "name": "stdout",
     "output_type": "stream",
     "text": [
      "Enter the number of test cases\n",
      "5\n",
      "Enter the number:\n",
      "12\n",
      "Enter the number:\n",
      "85\n",
      "Enter the number:\n",
      "451\n",
      "Enter the number:\n",
      "151\n",
      "Enter the number:\n",
      "251\n",
      "Next palindrome for 12 is 22\n",
      "Next palindrome for 85 is 88\n",
      "Next palindrome for 451 is 454\n",
      "Next palindrome for 151 is 161\n",
      "Next palindrome for 251 is 252\n"
     ]
    }
   ],
   "source": [
    "\n",
    "def next_palindrome(n):\n",
    "    n = n+1\n",
    "    while not is_palindrome(n):\n",
    "        n += 1\n",
    "    return n\n",
    "\n",
    "\n",
    "def is_palindrome(n):\n",
    "    return str(n) == str(n)[::-1]\n",
    "\n",
    "\n",
    "if __name__ == \"__main__\":\n",
    "    n = int(input(\"Enter the number of test cases\\n\"))\n",
    "    numbers = []\n",
    "    for i in range(n):\n",
    "        number = int(input(\"Enter the number:\\n\"))\n",
    "        numbers.append(number)\n",
    "\n",
    "    for i in range(n):\n",
    "        print(\n",
    "            f\"Next palindrome for {numbers[i]} is {next_palindrome(numbers[i])}\")"
   ]
  },
  {
   "cell_type": "code",
   "execution_count": 2,
   "metadata": {},
   "outputs": [
    {
     "name": "stdout",
     "output_type": "stream",
     "text": [
      "Enter the size of your list\n",
      "5\n",
      "Enter the number of the list\n",
      "45\n",
      "Enter the number of the list\n",
      "85\n",
      "Enter the number of the list\n",
      "74\n",
      "Enter the number of the list\n",
      "96\n",
      "Enter the number of the list\n",
      "25\n",
      "You have entered [45, 85, 74, 96, 25]\n",
      "Output List: [55, 88, 77, 99, 33]\n"
     ]
    }
   ],
   "source": [
    "def next_palindrome(n):\n",
    "    n = n+1\n",
    "    while not is_palindrome(n):\n",
    "        n += 1\n",
    "    return n\n",
    "\n",
    "\n",
    "def is_palindrome(n):\n",
    "    return str(n) == str(n)[::-1]\n",
    "\n",
    "if __name__ == \"__main__\":\n",
    "    size = int(input(\"Enter the size of your list\\n\"))\n",
    "    num_list = []\n",
    "    for i in range(size):\n",
    "        num_list.append(int(input(\"Enter the number of the list\\n\")))\n",
    "    print(f\"You have entered {num_list}\")\n",
    "\n",
    "    print(f\"Output List: {[num_list[i] if num_list[i] < 10 else next_palindrome(num_list[i] ) for i in range(size)]}\")\n",
    "\n",
    "\n",
    "    # new_list = []\n",
    "    # for element in num_list:\n",
    "    #     if element >10:\n",
    "    #         n = next_palindrome(element)\n",
    "    #         new_list.append(n)\n",
    "\n",
    "    #     else:\n",
    "    #         new_list.append(element)   \n",
    "    # print(f\"Output List: {new_list}\")"
   ]
  },
  {
   "cell_type": "code",
   "execution_count": 1,
   "metadata": {},
   "outputs": [
    {
     "name": "stdout",
     "output_type": "stream",
     "text": [
      "Enter the value of a\n",
      "5\n",
      "Enter the value of b\n",
      "6\n",
      "Player 1's turn\n",
      "\n",
      "Guess a number between 5 and 6\n",
      "5\n",
      "Enter a bigger number\n",
      "5\n",
      "Enter a bigger number\n",
      "6\n",
      "You guessed the number in 3 guesses\n",
      "\n",
      "Player 2's turn\n",
      "\n",
      "Guess a number between 5 and 6\n",
      "6\n",
      "Enter a smaller number\n",
      "5\n",
      "You guessed the number in 2 guesses\n",
      "\n",
      "Player 2 won the match!\n",
      "\n",
      "The number for player 1 was 6 and for player 2 was 5\n"
     ]
    }
   ],
   "source": [
    "import random\n",
    "\n",
    "def guessGame(a, b, actual):\n",
    "    guess = int(input(f\"Guess a number between {a} and {b}\\n\"))\n",
    "    nguess = 1\n",
    "    while guess != actual:\n",
    "        if guess< actual:\n",
    "            guess = int(input(f\"Enter a bigger number\\n\"))\n",
    "            nguess += 1\n",
    "        else: \n",
    "            guess = int(input(f\"Enter a smaller number\\n\"))   \n",
    "            nguess += 1\n",
    "\n",
    "    print(f\"You guessed the number in {nguess} guesses\\n\")\n",
    "    return nguess\n",
    "\n",
    "\n",
    "if __name__ == \"__main__\":\n",
    "    a = int(input(\"Enter the value of a\\n\"))    \n",
    "    b = int(input(\"Enter the value of b\\n\"))\n",
    "    actual1 = random.randint(a, b)  \n",
    "    print(\"Player 1's turn\\n\")\n",
    "    g1 = guessGame(a, b, actual1)\n",
    "    print(\"Player 2's turn\\n\")\n",
    "    actual2 = random.randint(a, b)  \n",
    "    g2 = guessGame(a, b, actual2)\n",
    "\n",
    "    if g1 < g2:\n",
    "        print(\"Player 1 won the match!\\n\")\n",
    "\n",
    "    elif g1 > g2:\n",
    "        print(\"Player 2 won the match!\\n\")    \n",
    "    \n",
    "    else:\n",
    "        print(\"Its a Tie!\\n\")\n",
    "    \n",
    "    print(f\"The number for player 1 was {actual1} and for player 2 was {actual2}\")"
   ]
  },
  {
   "cell_type": "code",
   "execution_count": 2,
   "metadata": {},
   "outputs": [
    {
     "name": "stdout",
     "output_type": "stream",
     "text": [
      "Please enter the query string\n",
      "good is\n",
      "3 results found!\n",
      " \"python is a good\": with a score of 2\n",
      " \"harry is a good boy\": with a score of 2\n",
      " \"this is snake\": with a score of 1\n"
     ]
    }
   ],
   "source": [
    "'''\n",
    "You are given few sentences as a list (Python list of sentences). Take a query string as an input from the user. You have to pull out the sentences matching this query inputted by the user in decreasing order of relevance after converting every word in the query and the sentence to lowercase. Most relevant sentence is the one with the maximum number of matching words with the query. \n",
    "Sentences = [“This is good”, “python is good”, “python is not python snake”]\n",
    "\n",
    "Input:\n",
    "Please input your query string\n",
    "“Python is”\n",
    "\n",
    "Output:\n",
    "3 results found:\n",
    "1.\tpython is not python snake\n",
    "2.\tpython is good\n",
    "3.\tThis is good\n",
    "'''\n",
    "\n",
    "\n",
    "def mathingWords(sentence1, sentence2):\n",
    "    words1 = sentence1.strip().split(\" \")\n",
    "    words2 = sentence2.strip().split(\" \")\n",
    "    score = 0\n",
    "    for word1 in words1:\n",
    "        for word2 in words2:\n",
    "            # print(f\"Matching {word1} with {word2}\")\n",
    "            if word1.lower() == word2.lower():\n",
    "                score += 1\n",
    "    return score\n",
    "\n",
    "\n",
    "if __name__ == \"__main__\":\n",
    "    # mathingWords(\"This is good\", \"python is good\")\n",
    "    sentences = [\"python is a good\", \"this is snake\",\n",
    "                 \"harry is a good boy\", \"Subscribe to code with harry\"]\n",
    "\n",
    "    query = input(\"Please enter the query string\\n\")\n",
    "    scores = [mathingWords(query, sentence) for sentence in sentences]\n",
    "    # print(scores)\n",
    "    sortedSentScore = [sentScore for sentScore in sorted(\n",
    "        zip(scores, sentences), reverse=True) if sentScore[0] !=0 ]\n",
    "    # print(sortedSentScore)\n",
    "\n",
    "    print(f\"{len(sortedSentScore)} results found!\")\n",
    "    for score, item in sortedSentScore:\n",
    "        print(f\" \\\"{item}\\\": with a score of {score}\")"
   ]
  },
  {
   "cell_type": "code",
   "execution_count": null,
   "metadata": {},
   "outputs": [],
   "source": []
  }
 ],
 "metadata": {
  "kernelspec": {
   "display_name": "Python 3",
   "language": "python",
   "name": "python3"
  },
  "language_info": {
   "codemirror_mode": {
    "name": "ipython",
    "version": 3
   },
   "file_extension": ".py",
   "mimetype": "text/x-python",
   "name": "python",
   "nbconvert_exporter": "python",
   "pygments_lexer": "ipython3",
   "version": "3.7.6"
  }
 },
 "nbformat": 4,
 "nbformat_minor": 4
}
