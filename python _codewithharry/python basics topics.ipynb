{
 "cells": [
  {
   "cell_type": "code",
   "execution_count": 1,
   "metadata": {},
   "outputs": [
    {
     "name": "stdout",
     "output_type": "stream",
     "text": [
      "Hello world! I am learning python tutorial using codewithharry.com\n"
     ]
    }
   ],
   "source": [
    "print(\"Hello world! I am learning python tutorial using codewithharry.com\")"
   ]
  },
  {
   "cell_type": "code",
   "execution_count": 2,
   "metadata": {},
   "outputs": [
    {
     "name": "stdout",
     "output_type": "stream",
     "text": [
      "Harry is a programmer**88\n"
     ]
    }
   ],
   "source": [
    "import os\n",
    "import flask\n",
    "\n",
    "# print statement for printing strings\n",
    "print(\"Harry is a programmer\",end=\"**\")\n",
    "\n",
    "# Print statement with a literal\n",
    "print(1+87)"
   ]
  },
  {
   "cell_type": "code",
   "execution_count": 3,
   "metadata": {},
   "outputs": [
    {
     "name": "stdout",
     "output_type": "stream",
     "text": [
      "Harry is \n",
      " good boy \t1\n"
     ]
    }
   ],
   "source": [
    "#Please dont remove this line\n",
    "\"\"\"\n",
    "This is a\n",
    "Multiline Comment\n",
    "\"\"\"\n",
    "\"\"\"\n",
    "This is a comment\n",
    "\"\"\"\n",
    "# print(\"next line\")\n",
    "# print(\"C:\\'narry\")\n",
    "print(\"Harry is \\n good boy \\t1\") #comment after statement"
   ]
  },
  {
   "cell_type": "code",
   "execution_count": 2,
   "metadata": {},
   "outputs": [
    {
     "name": "stdout",
     "output_type": "stream",
     "text": [
      "86868686868686868686\n"
     ]
    },
    {
     "data": {
      "text/plain": [
       "'\"  Quiz - Solved in the video\\n  Exercise - Next video\\n  Project - Some awesome python utility'"
      ]
     },
     "execution_count": 2,
     "metadata": {},
     "output_type": "execute_result"
    }
   ],
   "source": [
    "var1 = \"54\"\n",
    "var4 = \"32\"\n",
    "var2 = 4\n",
    "var3 = 36.7\n",
    "print(10 * str(int(var1) + int(var4)) )\n",
    "# print(100 * \"Hello world\\n\")\n",
    "# print(\"Enter your number\")\n",
    "# inpnum = input()\n",
    "#\n",
    "# print(\"You entered\", int(inpnum)+10)\n",
    "\n",
    "\"\"\"str()\n",
    "int()\n",
    "float()\"\"\"\n",
    "\n",
    "\n",
    "\"\"\"\"  Quiz - Solved in the video\n",
    "  Exercise - Next video\n",
    "  Project - Some awesome python utility\"\"\"\n",
    "# print(type(var1))\n",
    "\n",
    "# print(\"Enter first number\")\n",
    "# n1 = input()\n",
    "# print(\"Enter second number\")\n",
    "# n2 = input()\n",
    "# print(\"Sum of these two numbers is\", int(n1) + int(n2))\n",
    "     "
   ]
  },
  {
   "cell_type": "code",
   "execution_count": 5,
   "metadata": {},
   "outputs": [
    {
     "name": "stdout",
     "output_type": "stream",
     "text": [
      "50\n",
      "50\n",
      "60.65\n"
     ]
    }
   ],
   "source": [
    "# type casting in python\n",
    "a = 5\n",
    "b = \"45\"\n",
    "c = 55.65\n",
    "d = 5.0\n",
    "e = int(b)\n",
    "print(a+e)\n",
    "print(a+int(b))\n",
    "print(float(c)+a)"
   ]
  },
  {
   "cell_type": "markdown",
   "metadata": {},
   "source": [
    "# string"
   ]
  },
  {
   "cell_type": "code",
   "execution_count": 4,
   "metadata": {},
   "outputs": [
    {
     "name": "stdout",
     "output_type": "stream",
     "text": [
      "ybdo  iyrH\n",
      "False\n",
      "3\n",
      "Harry is a good boy\n",
      "Harry are a good boy\n",
      "harry is a good boy\n",
      "HARRY IS A GOOD BOY\n",
      "2\n"
     ]
    }
   ],
   "source": [
    "mystr = \"Harry is a good boy\"\n",
    "# print(len(mystr))\n",
    "print(mystr[::-2])\n",
    "\n",
    "print(mystr.endswith(\"bdoy\"))\n",
    "print(mystr.count(\"o\"))\n",
    "print(mystr.capitalize())\n",
    "print(mystr.replace(\"is\", \"are\"))\n",
    "print(mystr.lower())\n",
    "print(mystr.upper())\n",
    "print(mystr.find('r'))"
   ]
  },
  {
   "cell_type": "code",
   "execution_count": 1,
   "metadata": {},
   "outputs": [
    {
     "name": "stdout",
     "output_type": "stream",
     "text": [
      "['__add__', '__class__', '__contains__', '__delattr__', '__dir__', '__doc__', '__eq__', '__format__', '__ge__', '__getattribute__', '__getitem__', '__getnewargs__', '__gt__', '__hash__', '__init__', '__init_subclass__', '__iter__', '__le__', '__len__', '__lt__', '__mod__', '__mul__', '__ne__', '__new__', '__reduce__', '__reduce_ex__', '__repr__', '__rmod__', '__rmul__', '__setattr__', '__sizeof__', '__str__', '__subclasshook__', 'capitalize', 'casefold', 'center', 'count', 'encode', 'endswith', 'expandtabs', 'find', 'format', 'format_map', 'index', 'isalnum', 'isalpha', 'isascii', 'isdecimal', 'isdigit', 'isidentifier', 'islower', 'isnumeric', 'isprintable', 'isspace', 'istitle', 'isupper', 'join', 'ljust', 'lower', 'lstrip', 'maketrans', 'partition', 'replace', 'rfind', 'rindex', 'rjust', 'rpartition', 'rsplit', 'rstrip', 'split', 'splitlines', 'startswith', 'strip', 'swapcase', 'title', 'translate', 'upper', 'zfill']\n"
     ]
    }
   ],
   "source": [
    "print(dir(\"a\"))"
   ]
  },
  {
   "cell_type": "markdown",
   "metadata": {},
   "source": [
    "# list"
   ]
  },
  {
   "cell_type": "code",
   "execution_count": 27,
   "metadata": {},
   "outputs": [
    {
     "name": "stdout",
     "output_type": "stream",
     "text": [
      "56\n",
      "[2, 7, 9, 11, 3]\n",
      "[2, 98, 9, 11, 3]\n",
      "(1,)\n",
      "8 1\n"
     ]
    }
   ],
   "source": [
    "grocery = [\"Harpic\", \"vim bar\", \"deodrant\", \"Bhindi\",\n",
    "           \"Lollypop\", 56]\n",
    "print(grocery[5])\n",
    "numbers = [2, 7, 9, 11, 3] #list\n",
    "# numbers.clear()\n",
    "# numbers.remove(9)\n",
    "\n",
    "# numbers.pop()\n",
    "# numbers.append(1)\n",
    "# numbers.append(72)\n",
    "# numbers.append(5)\n",
    "# numbers.insert(2, 67)\n",
    "# numbers.reverse()\n",
    "# numbers.sort()\n",
    "# numbers.index(1) jo ama aalist 6e ke nahi ae jova mate index no use thy 6\n",
    "# 3, 11, 9, 7, 2\n",
    "print(numbers)\n",
    "numbers[1] = 98\n",
    "print(numbers)\n",
    "# Mutable - can change\n",
    "# Immutable - cannot change\n",
    "tp = (1,)\n",
    "print(tp)\n",
    "a= 1\n",
    "b = 8\n",
    "a, b = b,a\n",
    "# temp = a\n",
    "# a = b\n",
    "# b = temp\n",
    "print(a, b)"
   ]
  },
  {
   "cell_type": "code",
   "execution_count": 18,
   "metadata": {},
   "outputs": [
    {
     "name": "stdout",
     "output_type": "stream",
     "text": [
      "['__add__', '__class__', '__contains__', '__delattr__', '__delitem__', '__dir__', '__doc__', '__eq__', '__format__', '__ge__', '__getattribute__', '__getitem__', '__gt__', '__hash__', '__iadd__', '__imul__', '__init__', '__init_subclass__', '__iter__', '__le__', '__len__', '__lt__', '__mul__', '__ne__', '__new__', '__reduce__', '__reduce_ex__', '__repr__', '__reversed__', '__rmul__', '__setattr__', '__setitem__', '__sizeof__', '__str__', '__subclasshook__', 'append', 'clear', 'copy', 'count', 'extend', 'index', 'insert', 'pop', 'remove', 'reverse', 'sort']\n"
     ]
    }
   ],
   "source": [
    "print(dir(list))"
   ]
  },
  {
   "cell_type": "markdown",
   "metadata": {},
   "source": [
    "# tuple"
   ]
  },
  {
   "cell_type": "code",
   "execution_count": 2,
   "metadata": {},
   "outputs": [
    {
     "name": "stdout",
     "output_type": "stream",
     "text": [
      "('modi', 8, 'bha', '65')\n"
     ]
    }
   ],
   "source": [
    "a = ()\n",
    "b = (1,)\n",
    "c = (5,6,8,2,9)\n",
    "d = ('modi',8,'bha','65')\n",
    "print(d)"
   ]
  },
  {
   "cell_type": "code",
   "execution_count": 29,
   "metadata": {},
   "outputs": [
    {
     "name": "stdout",
     "output_type": "stream",
     "text": [
      "bha\n"
     ]
    }
   ],
   "source": [
    "print(d[2])"
   ]
  },
  {
   "cell_type": "code",
   "execution_count": 33,
   "metadata": {},
   "outputs": [
    {
     "name": "stdout",
     "output_type": "stream",
     "text": [
      "1\n"
     ]
    }
   ],
   "source": [
    "print(d.count(8))"
   ]
  },
  {
   "cell_type": "code",
   "execution_count": 10,
   "metadata": {},
   "outputs": [
    {
     "name": "stdout",
     "output_type": "stream",
     "text": [
      "['__add__', '__class__', '__contains__', '__delattr__', '__dir__', '__doc__', '__eq__', '__format__', '__ge__', '__getattribute__', '__getitem__', '__getnewargs__', '__gt__', '__hash__', '__init__', '__init_subclass__', '__iter__', '__le__', '__len__', '__lt__', '__mul__', '__ne__', '__new__', '__reduce__', '__reduce_ex__', '__repr__', '__rmul__', '__setattr__', '__sizeof__', '__str__', '__subclasshook__', 'count', 'index']\n"
     ]
    }
   ],
   "source": [
    "print(dir(tuple))"
   ]
  },
  {
   "cell_type": "markdown",
   "metadata": {},
   "source": [
    "# dictionary"
   ]
  },
  {
   "cell_type": "code",
   "execution_count": 11,
   "metadata": {},
   "outputs": [
    {
     "name": "stdout",
     "output_type": "stream",
     "text": [
      "['__class__', '__contains__', '__delattr__', '__delitem__', '__dir__', '__doc__', '__eq__', '__format__', '__ge__', '__getattribute__', '__getitem__', '__gt__', '__hash__', '__init__', '__init_subclass__', '__iter__', '__le__', '__len__', '__lt__', '__ne__', '__new__', '__reduce__', '__reduce_ex__', '__repr__', '__setattr__', '__setitem__', '__sizeof__', '__str__', '__subclasshook__', 'clear', 'copy', 'fromkeys', 'get', 'items', 'keys', 'pop', 'popitem', 'setdefault', 'update', 'values']\n"
     ]
    }
   ],
   "source": [
    "print(dir(dict))"
   ]
  },
  {
   "cell_type": "code",
   "execution_count": 12,
   "metadata": {},
   "outputs": [
    {
     "name": "stdout",
     "output_type": "stream",
     "text": [
      "<class 'dict'>\n",
      "{'Harry': 'Burger', 'Rohan': 'Fish', 'SkillF': 'Roti', 'Shubham': {'B': 'maggie', 'L': 'roti', 'D': 'Chicken'}, 'Ankit': 'Junk Food', 420: 'Kebabs'}\n",
      "{'B': 'maggie', 'L': 'roti', 'D': 'Chicken'}\n",
      "dict_keys(['Harry', 'Rohan', 'SkillF', 'Shubham', 'Ankit', 'Leena'])\n",
      "dict_items([('Harry', 'Burger'), ('Rohan', 'Fish'), ('SkillF', 'Roti'), ('Shubham', {'B': 'maggie', 'L': 'roti', 'D': 'Chicken'}), ('Ankit', 'Junk Food'), ('Leena', 'Toffee')])\n",
      "dict_values(['Fish', 'Roti', {'B': 'maggie', 'L': 'roti', 'D': 'Chicken'}, 'Junk Food'])\n",
      "dict_items([('Rohan', 'Fish'), ('SkillF', 'Roti'), ('Shubham', {'B': 'maggie', 'L': 'roti', 'D': 'Chicken'}), ('Ankit', 'Junk Food')])\n",
      "Fish\n",
      "{'SkillF': 'Roti', 'Shubham': {'B': 'maggie', 'L': 'roti', 'D': 'Chicken'}, 'Ankit': 'Junk Food'}\n",
      "('Ankit', 'Junk Food')\n",
      "{'SkillF': 'Roti', 'Shubham': {'B': 'maggie', 'L': 'roti', 'D': 'Chicken'}}\n"
     ]
    }
   ],
   "source": [
    "# Dictionary is nothing but key value pairs\n",
    "d1 = {}\n",
    "print(type(d1))\n",
    "d2 = {\"Harry\":\"Burger\",\n",
    "      \"Rohan\":\"Fish\",\n",
    "      \"SkillF\":\"Roti\",\n",
    "      \"Shubham\":{\"B\":\"maggie\", \"L\":\"roti\", \"D\":\"Chicken\"}}\n",
    "d2[\"Ankit\"] = \"Junk Food\"\n",
    "d2[420] = \"Kebabs\"\n",
    "print(d2)\n",
    "del d2[420]\n",
    "print(d2[\"Shubham\"])\n",
    "d3 = d2.copy()\n",
    "del d3[\"Harry\"]\n",
    "d2.update({\"Leena\":\"Toffee\"})\n",
    "print(d2.keys())\n",
    "print(d2.items())\n",
    "\n",
    "print(d3.values())\n",
    "print(d3.items())\n",
    "print(d3.pop('Rohan')) #aa select kari ne delete kare \n",
    "print(d3)\n",
    "print(d3.popitem()) # ane aa last ma je koi pan value hoy aene delete kare\n",
    "print(d3)"
   ]
  },
  {
   "cell_type": "code",
   "execution_count": 13,
   "metadata": {},
   "outputs": [
    {
     "name": "stdout",
     "output_type": "stream",
     "text": [
      "python\n"
     ]
    }
   ],
   "source": [
    "print(d2.setdefault('modi','python'))"
   ]
  },
  {
   "cell_type": "code",
   "execution_count": 14,
   "metadata": {},
   "outputs": [
    {
     "name": "stdout",
     "output_type": "stream",
     "text": [
      "{'Harry': 'Burger', 'Rohan': 'Fish', 'SkillF': 'Roti', 'Shubham': {'B': 'maggie', 'L': 'roti', 'D': 'Chicken'}, 'Ankit': 'Junk Food', 'Leena': 'Toffee', 'modi': 'python'}\n"
     ]
    }
   ],
   "source": [
    "print(d2)"
   ]
  },
  {
   "cell_type": "code",
   "execution_count": 15,
   "metadata": {},
   "outputs": [
    {
     "name": "stdout",
     "output_type": "stream",
     "text": [
      "hi\n"
     ]
    }
   ],
   "source": [
    "print(d2.get('hello','hi'))"
   ]
  },
  {
   "cell_type": "code",
   "execution_count": 16,
   "metadata": {},
   "outputs": [
    {
     "name": "stdout",
     "output_type": "stream",
     "text": [
      "{'Harry': 'Burger', 'Rohan': 'Fish', 'SkillF': 'Roti', 'Shubham': {'B': 'maggie', 'L': 'roti', 'D': 'Chicken'}, 'Ankit': 'Junk Food', 'Leena': 'Toffee', 'modi': 'python'}\n"
     ]
    }
   ],
   "source": [
    "print(d2)"
   ]
  },
  {
   "cell_type": "code",
   "execution_count": 17,
   "metadata": {},
   "outputs": [
    {
     "name": "stdout",
     "output_type": "stream",
     "text": [
      "{'key1': ('modi', 'hi', 'hello'), 'key2': ('modi', 'hi', 'hello'), 'key3': ('modi', 'hi', 'hello')}\n"
     ]
    }
   ],
   "source": [
    "x = ('key1', 'key2', 'key3')\n",
    "y = ('modi','hi','hello')\n",
    "\n",
    "thisdict = dict.fromkeys(x, y)\n",
    "\n",
    "\n",
    "print(thisdict)\n"
   ]
  },
  {
   "cell_type": "code",
   "execution_count": 5,
   "metadata": {},
   "outputs": [
    {
     "name": "stdout",
     "output_type": "stream",
     "text": [
      "enter the key:ignore\n",
      "ignore means refuse to take notice of or acknowledge\n"
     ]
    }
   ],
   "source": [
    "# Create a dictionary and take input from the user and return the meaning of the\n",
    "# word from the dictionary\n",
    "\n",
    "Dict = {\"ignore\":\"refuse to take notice of or acknowledge\", \"abandon\":\"cease to support or look after\",\n",
    "        \"exaggerate\":\"enlarged or altered beyond normal proportions\", \"prejudice\":\"preconceived opinion that is not based on reason or actual experience\"}\n",
    "\n",
    "Data1 = input(\"enter the key:\")\n",
    "print(Data1, \"means\", Dict[Data1])"
   ]
  },
  {
   "cell_type": "markdown",
   "metadata": {},
   "source": [
    "# sets"
   ]
  },
  {
   "cell_type": "code",
   "execution_count": 19,
   "metadata": {},
   "outputs": [
    {
     "name": "stdout",
     "output_type": "stream",
     "text": [
      "['__and__', '__class__', '__contains__', '__delattr__', '__dir__', '__doc__', '__eq__', '__format__', '__ge__', '__getattribute__', '__gt__', '__hash__', '__iand__', '__init__', '__init_subclass__', '__ior__', '__isub__', '__iter__', '__ixor__', '__le__', '__len__', '__lt__', '__ne__', '__new__', '__or__', '__rand__', '__reduce__', '__reduce_ex__', '__repr__', '__ror__', '__rsub__', '__rxor__', '__setattr__', '__sizeof__', '__str__', '__sub__', '__subclasshook__', '__xor__', 'add', 'clear', 'copy', 'difference', 'difference_update', 'discard', 'intersection', 'intersection_update', 'isdisjoint', 'issubset', 'issuperset', 'pop', 'remove', 'symmetric_difference', 'symmetric_difference_update', 'union', 'update']\n"
     ]
    }
   ],
   "source": [
    "print(dir(set))"
   ]
  },
  {
   "cell_type": "code",
   "execution_count": 20,
   "metadata": {},
   "outputs": [
    {
     "name": "stdout",
     "output_type": "stream",
     "text": [
      "<class 'set'>\n",
      "{1, 2, 3, 4}\n",
      "<class 'set'>\n",
      "True\n"
     ]
    }
   ],
   "source": [
    "s = set()\n",
    "print(type(s))\n",
    "l = [1, 2, 3, 4]\n",
    "s1 = set(l)\n",
    "print(s1)\n",
    "print(type(s1))\n",
    "s.add(1)\n",
    "s.add(2)\n",
    "s.remove(2)\n",
    "s1 = {4, 6}\n",
    "print(s.isdisjoint(s1))"
   ]
  },
  {
   "cell_type": "markdown",
   "metadata": {},
   "source": [
    "# if-else condition"
   ]
  },
  {
   "cell_type": "code",
   "execution_count": 21,
   "metadata": {},
   "outputs": [
    {
     "name": "stdout",
     "output_type": "stream",
     "text": [
      "What is your age?\n",
      "85\n",
      "You can drive\n"
     ]
    }
   ],
   "source": [
    "# var1 = 6\n",
    "# var2 = 56\n",
    "# var3 = int(input())\n",
    "# if var3>var2:\n",
    "#     print(\"Greater\")\n",
    "# elif var3==var2:\n",
    "#     print(\"Equal\")\n",
    "# else:\n",
    "#     print(\"Lesser\")\n",
    "\n",
    "# list1 = [5, 7, 3]\n",
    "# print(15 not in list1)\n",
    "# if 15 not in list1:\n",
    "#     print(\"No its not in the list\")\n",
    "\n",
    "# Quiz\n",
    "print(\"What is your age?\")\n",
    "age = int(input())\n",
    "if age<18:\n",
    "    print(\"You cannot drive\")\n",
    "\n",
    "elif age==18:\n",
    "    print(\"We will think about you\")\n",
    "\n",
    "else:\n",
    "    print(\"You can drive\")"
   ]
  },
  {
   "cell_type": "markdown",
   "metadata": {},
   "source": [
    "# for loops"
   ]
  },
  {
   "cell_type": "code",
   "execution_count": 22,
   "metadata": {},
   "outputs": [
    {
     "name": "stdout",
     "output_type": "stream",
     "text": [
      "22\n",
      "21\n",
      "64\n",
      "23\n",
      "233\n",
      "23\n",
      "6\n"
     ]
    }
   ],
   "source": [
    "# list1 = [ [\"Harry\", 1], [\"Larry\", 2],\n",
    "#           [\"Carry\", 6], [\"Marie\", 250]]\n",
    "# dict1 = dict(list1)\n",
    "#\n",
    "# for item in dict1:\n",
    "#     print(item)\n",
    "# for item, lollypop in dict1.items():\n",
    "#     print(item, \"and lolly is \", lollypop)\n",
    "items = [int, float, \"HaERRrYutr\", 5,3, 3, 22, 21, 64, 23, 233, 23, 6]\n",
    "\n",
    "for item in items:\n",
    "    if str(item).isnumeric() and item>=6:\n",
    "        print(item)"
   ]
  },
  {
   "cell_type": "markdown",
   "metadata": {},
   "source": [
    "# function"
   ]
  },
  {
   "cell_type": "code",
   "execution_count": 23,
   "metadata": {},
   "outputs": [
    {
     "name": "stdout",
     "output_type": "stream",
     "text": [
      "hello modi enter number 12\n",
      "36\n"
     ]
    }
   ],
   "source": [
    "def func(a,b):\n",
    "    print(f'hello modi enter number {a+b}')\n",
    "func(5,7)\n",
    "\n",
    "def modi(a):\n",
    "    return a*a\n",
    "print(modi(6))"
   ]
  },
  {
   "cell_type": "code",
   "execution_count": 24,
   "metadata": {},
   "outputs": [
    {
     "name": "stdout",
     "output_type": "stream",
     "text": [
      "8\n",
      "6\n",
      "the sum of number: 14\n"
     ]
    }
   ],
   "source": [
    "#try and exceptions in\n",
    "a = input()\n",
    "b = input()\n",
    "try:\n",
    "    print('the sum of number:',int(a)+int(b))\n",
    "except Exception as e:\n",
    "    print(e)"
   ]
  },
  {
   "cell_type": "code",
   "execution_count": 25,
   "metadata": {},
   "outputs": [],
   "source": [
    "#that is file solutions\n",
    "# r : r mode opens a file for read only. We do not have the permission to update or change any data in this mode.\n",
    "# w : w mode does not concern itself with what is present in the file. It just opens a file for writing and if there is already some data present in the file, it overwrites it.\n",
    "# x : x is used to create a new file. It does not work for an already existing file, as in such cases the operation fails.\n",
    "# a : a stands for append, which means to add something to the end of the file. It does exactly the same. It just adds the data we like in write(w) mode but instead of overwriting it just adds it to the end of file. It also does not have the permission of reading the file.\n",
    "# t : t mode is used to open our file in text mode and only proper text files can be opened by it. It deals the file data as a string.\n",
    "# b : b stands for binary and this mode can only open binary file, that are read in bytes. The binary files include images, documents or all other files that require specific software to be read.\n",
    "# + : In plus mode we can read and write a file simultaneously. The mode is mostly use in cases where we want to update our file."
   ]
  },
  {
   "cell_type": "code",
   "execution_count": 26,
   "metadata": {},
   "outputs": [
    {
     "name": "stdout",
     "output_type": "stream",
     "text": [
      "['Harry bhai bahut achhe hain\\n', 'thank youthank you']\n",
      "\n"
     ]
    }
   ],
   "source": [
    "\n",
    "f = open(\"modi.txt\", \"rt\")\n",
    "print(f.readlines())\n",
    "print(f.readline())\n",
    "# print(f.readline())\n",
    "# print(f.readline())\n",
    "# content = f.read()\n",
    "#\n",
    "# for line in f:\n",
    "#     print(line, end=\"\")\n",
    "# print(content)\n",
    "# content = f.read(34455)\n",
    "# print(\"1\", content)\n",
    "#\n",
    "# content = f.read(34455)\n",
    "# print(\"2\", content)\n",
    "f.close()"
   ]
  },
  {
   "cell_type": "code",
   "execution_count": 27,
   "metadata": {},
   "outputs": [
    {
     "name": "stdout",
     "output_type": "stream",
     "text": [
      "13\n"
     ]
    }
   ],
   "source": [
    "f = open(\"modi.txt\", \"wt\")\n",
    "print(f.write('modi is smart'))"
   ]
  },
  {
   "cell_type": "code",
   "execution_count": 28,
   "metadata": {},
   "outputs": [
    {
     "name": "stdout",
     "output_type": "stream",
     "text": [
      "modi is smart\n"
     ]
    }
   ],
   "source": [
    "f = open(\"modi.txt\", \"r\")\n",
    "print(f.read())\n",
    "f.close()"
   ]
  },
  {
   "cell_type": "code",
   "execution_count": 29,
   "metadata": {},
   "outputs": [
    {
     "name": "stdout",
     "output_type": "stream",
     "text": [
      "28\n",
      "28\n",
      "['Harry bhai bahut achhe hain\\n']\n"
     ]
    },
    {
     "data": {
      "text/plain": [
       "9"
      ]
     },
     "execution_count": 29,
     "metadata": {},
     "output_type": "execute_result"
    }
   ],
   "source": [
    "f = open(\"modi.txt\", \"w\")\n",
    "a = f.write(\"Harry bhai bahut achhe hain\\n\")\n",
    "print(a)\n",
    "f.close()\n",
    "\n",
    "f = open(\"harry2.txt\", \"a\")\n",
    "a = f.write(\"Harry bhai bahut achhe hain\\n\")\n",
    "print(a)\n",
    "f.close()\n",
    "\n",
    "\n",
    "# Handle read and write both\n",
    "f = open(\"modi.txt\", \"r+\")\n",
    "print(f.readlines())\n",
    "f.write(\"thank you\")"
   ]
  },
  {
   "cell_type": "code",
   "execution_count": 30,
   "metadata": {},
   "outputs": [
    {
     "name": "stdout",
     "output_type": "stream",
     "text": [
      "5\n",
      " bhai bahut achhe hain\n",
      "\n",
      "29\n",
      "thank you\n",
      "38\n"
     ]
    }
   ],
   "source": [
    "f = open(\"modi.txt\")\n",
    "f.seek(5)   #txt file na stasting 5 charecter 60di ne chalu thy\n",
    "print(f.tell())\n",
    "print(f.readline())\n",
    "print(f.tell())\n",
    "\n",
    "print(f.readline())\n",
    "print(f.tell())\n",
    "f.close()"
   ]
  },
  {
   "cell_type": "code",
   "execution_count": 31,
   "metadata": {},
   "outputs": [
    {
     "name": "stdout",
     "output_type": "stream",
     "text": [
      "['Harry bhai bahut achhe hain\\n', 'thank you']\n",
      "['Harry bhai bahut achhe hain\\n', 'thank you']\n"
     ]
    }
   ],
   "source": [
    "with open(\"modi.txt\") as f:  #same to same method any method use in python\n",
    "    print(f.readlines())\n",
    "\n",
    "f = open(\"modi.txt\",\"rt\")\n",
    "print(f.readlines())"
   ]
  },
  {
   "cell_type": "code",
   "execution_count": 32,
   "metadata": {},
   "outputs": [
    {
     "name": "stdout",
     "output_type": "stream",
     "text": [
      "55 8\n",
      "I have printed This is me\n",
      "55\n",
      "after calling rohan() 20\n",
      "88\n"
     ]
    }
   ],
   "source": [
    "l = 10 # Global\n",
    "def function1(n):\n",
    "#     l = 5 #Local\n",
    "    m = 8 #Local\n",
    "    global l\n",
    "    l = l + 45\n",
    "    print(l,m)\n",
    "    print(\"I have printed\",n)\n",
    "\n",
    "function1(\"This is me\")\n",
    "print(l)\n",
    "\n",
    "x = 89\n",
    "def harry():\n",
    "    x = 20\n",
    "    def rohan():\n",
    "        global x\n",
    "        x = 88\n",
    "#     print(\"before calling rohan()\", x)\n",
    "    rohan()\n",
    "    print(\"after calling rohan()\", x)\n",
    "\n",
    "harry()\n",
    "print(x)"
   ]
  },
  {
   "cell_type": "code",
   "execution_count": 33,
   "metadata": {},
   "outputs": [
    {
     "name": "stdout",
     "output_type": "stream",
     "text": [
      "Factorial Using Iterative Method 720\n",
      "Factorial Using Recursive Method 720\n",
      "Enter then number7\n",
      "8\n"
     ]
    }
   ],
   "source": [
    "# n! = n * n-1 * n-2 * n-3.......1\n",
    "# n! = n * (n-1)!\n",
    "def factorial_iterative(n):\n",
    "    \"\"\"\n",
    "        :param n: Integer\n",
    "        :return: n * n-1 * n-2 * n-3.......1\n",
    "    \"\"\"\n",
    "    fac = 1\n",
    "    for i in range(n):\n",
    "        fac = fac * (i+1)\n",
    "    return fac\n",
    "print(\"Factorial Using Iterative Method\", factorial_iterative(6))\n",
    "\n",
    "\n",
    "def factorial_recursive(n):\n",
    "    \"\"\"\n",
    "        :param n: Integer\n",
    "        :return: n * n-1 * n-2 * n-3.......1\n",
    "    \"\"\"\n",
    "    if n ==1:\n",
    "        return 1\n",
    "    else:\n",
    "        return n * factorial_recursive(n-1)\n",
    "    # 5 * factorial_recursive(4)\n",
    "    # 5 * 4 * factorial_recursive(3)\n",
    "    # 5 * 4 * 3 * factorial_recursive(2)\n",
    "    # 5 * 4 * 3 * 2 * factorial_recursive(1)\n",
    "    # 5 * 4 * 3 * 2 * 1 = 120\n",
    "    \n",
    "print(\"Factorial Using Recursive Method\", factorial_recursive(6))\n",
    "\n",
    "\n",
    "# 0 1 1 2 3 5 8 13\n",
    "def fibonacci(n):\n",
    "    if n==1:\n",
    "        return 0\n",
    "    elif n==2:\n",
    "        return 1\n",
    "    else:\n",
    "        return fibonacci(n-1)+ fibonacci(n-2)\n",
    "\n",
    "\n",
    "n = int(input(\"Enter then number\"))\n",
    "print(fibonacci(n))\n",
    "  \n"
   ]
  },
  {
   "cell_type": "code",
   "execution_count": 34,
   "metadata": {},
   "outputs": [
    {
     "name": "stdout",
     "output_type": "stream",
     "text": [
      "15\n",
      "2\n",
      "5\n",
      "[[5, 6], [1, 14], [8, 23]]\n"
     ]
    }
   ],
   "source": [
    "# Lambda functions or anonymous functions\n",
    "def add(a, b):\n",
    "    return a+b\n",
    "print(add(6,9))\n",
    "\n",
    "minus = lambda x, y: x-y\n",
    "print(minus(5,3))\n",
    "\n",
    "def minus(x, y):\n",
    "    return x-y\n",
    "print(minus(9, 4))\n",
    "\n",
    "\n",
    "a =[[1, 14], [5, 6], [8,23]]\n",
    "a.sort(key=lambda x:x[1])\n",
    "print(a)"
   ]
  },
  {
   "cell_type": "code",
   "execution_count": 35,
   "metadata": {},
   "outputs": [
    {
     "name": "stdout",
     "output_type": "stream",
     "text": [
      "Aaj Tak\n"
     ]
    }
   ],
   "source": [
    "import random\n",
    "random_number = random.randint(0, 1)\n",
    "# print(random_number)\n",
    "rand = random.random() *100\n",
    "# print(rand)\n",
    "lst = [\"Star Plus\", \"DD1\", \"Aaj Tak\", \"CodeWithHarry\"]\n",
    "choice = random.choice(lst)\n",
    "print(choice)"
   ]
  },
  {
   "cell_type": "code",
   "execution_count": 36,
   "metadata": {},
   "outputs": [
    {
     "name": "stdout",
     "output_type": "stream",
     "text": [
      "Jack is in clss 5\n"
     ]
    }
   ],
   "source": [
    "name=\"Jack\"\n",
    "clss = 5\n",
    "s=\"%s is in clss %d\"%(name,clss)\n",
    "print(s)"
   ]
  },
  {
   "cell_type": "code",
   "execution_count": 37,
   "metadata": {},
   "outputs": [
    {
     "name": "stdout",
     "output_type": "stream",
     "text": [
      "This article is written in Python \n"
     ]
    }
   ],
   "source": [
    "str = \"This article is written in {} \"\n",
    "\n",
    "print (str.format(\"Python\"))"
   ]
  },
  {
   "cell_type": "code",
   "execution_count": 38,
   "metadata": {},
   "outputs": [
    {
     "name": "stdout",
     "output_type": "stream",
     "text": [
      "Welcome to our Python Programming tutorial\n"
     ]
    }
   ],
   "source": [
    "## declaring variables\n",
    "\n",
    "a = \"Python\"\n",
    "\n",
    "b = \"Programming\"\n",
    "\n",
    "print(f\"Welcome to our {a} {b} tutorial\")"
   ]
  },
  {
   "cell_type": "code",
   "execution_count": 39,
   "metadata": {},
   "outputs": [],
   "source": [
    "import time"
   ]
  },
  {
   "cell_type": "code",
   "execution_count": 40,
   "metadata": {},
   "outputs": [
    {
     "name": "stdout",
     "output_type": "stream",
     "text": [
      "this is Harry 3 -0.562453851238172\n"
     ]
    }
   ],
   "source": [
    "# F strings\n",
    "import math\n",
    "\n",
    "me = \"Harry\"\n",
    "a1 =3\n",
    "# a = \"this is %s %s\"%(me, a1)\n",
    "# a = \"This is {1} {0}\"\n",
    "# b = a.format(me, a1)\n",
    "# print(b)\n",
    "a = f\"this is {me} {a1} {math.cos(65)}\"\n",
    "# time\n",
    "print(a)"
   ]
  },
  {
   "cell_type": "code",
   "execution_count": 41,
   "metadata": {},
   "outputs": [
    {
     "name": "stdout",
     "output_type": "stream",
     "text": [
      "modi\n",
      "bha\n",
      "yha\n",
      "heros\n",
      "85\n",
      "modi\n",
      "8\n",
      "6\n",
      "4\n",
      "2\n",
      "heros\n",
      "85\n",
      "modi\n",
      "8\n",
      "6\n",
      "4\n",
      "2\n",
      "\n",
      " key keans argument is run\n",
      "rohan is a moni\n",
      "pthon is a 55\n",
      "rhan is a modi\n",
      "phon is a 57\n",
      "rohan are moni\n",
      "pthon are 55\n",
      "rhan are modi\n",
      "phon are 57\n"
     ]
    }
   ],
   "source": [
    "# def func1(a,b):\n",
    "#     print(a,b)\n",
    "# func1(\"modi\",'bhargav')  \n",
    "#theris a normal function\n",
    "\n",
    "\n",
    "#args function examples\n",
    "def modi(normalargs,*args,**keans):\n",
    "#     print(args[0])\n",
    "#     print(normalargs)\n",
    "    for j in normalargs:\n",
    "        print(j)\n",
    "    for i in args:\n",
    "        print(i)\n",
    "    for k in args:\n",
    "        print(k)\n",
    "    print(\"\\n key keans argument is run\")\n",
    "    for key,value in keans.items():\n",
    "        print(f\"{key} is a {value}\")\n",
    "    for key,value in keans.items():\n",
    "        print(f\"{key} are {value}\")\n",
    "mo = [8,6,4,2]\n",
    "normalargs = ['modi','bha','yha']\n",
    "pythons = {'modi',85,'heros'}\n",
    "kw = {\n",
    "    \"rohan\":\"moni\",\n",
    "    \"pthon\":\"55\"\n",
    "}\n",
    "py = {\n",
    "    \"rhan\":\"modi\",\n",
    "    \"phon\":\"57\"\n",
    "}\n",
    "modi(normalargs,*pythons,*mo,**kw,**py)"
   ]
  },
  {
   "cell_type": "code",
   "execution_count": 42,
   "metadata": {},
   "outputs": [
    {
     "name": "stdout",
     "output_type": "stream",
     "text": [
      "Fri Jul 17 01:55:41 2020\n"
     ]
    }
   ],
   "source": [
    "#how to program execution time \n",
    "# import time\n",
    "# initial = time.time()\n",
    "# k= 0\n",
    "# while(k<45):\n",
    "#     print(\"modi\")\n",
    "#       time.sleep() koi pan programme ne shanti seconds ni rite run karva mate\n",
    "#     k+=1\n",
    "# print(\"while llop is \",time.time()-initial,\"seconds\")\n",
    "    \n",
    "# intial2 = time.time()\n",
    "# for i in range(45):\n",
    "#     print('modi')\n",
    "# print(\"for loop is execution time\",time.time()-intial2,\"seconds\")\n",
    "\n",
    "\n",
    "import time\n",
    "locatin = time.asctime(time.localtime(time.time()))\n",
    "print(locatin)"
   ]
  },
  {
   "cell_type": "code",
   "execution_count": 43,
   "metadata": {},
   "outputs": [
    {
     "name": "stdout",
     "output_type": "stream",
     "text": [
      "Jarvis please buy Bhindi\n",
      "Jarvis please buy chopsticks\n"
     ]
    }
   ],
   "source": [
    "l1 = [\"Bhindi\", \"Aloo\", \"chopsticks\", \"chowmein\"]\n",
    "\n",
    "i = 1\n",
    "for item in l1:\n",
    "    if i%2 == 1:\n",
    "        print(f\"Jarvis please buy {item}\")\n",
    "    i += 1\n",
    "\n",
    "# for index, item in enumerate(l1):\n",
    "#     if index%2==0:\n",
    "#         print(f\"Jarvis please buy {item}\")"
   ]
  },
  {
   "cell_type": "code",
   "execution_count": 44,
   "metadata": {},
   "outputs": [
    {
     "name": "stdout",
     "output_type": "stream",
     "text": [
      "0.22.1\n"
     ]
    }
   ],
   "source": [
    "import sklearn as sk\n",
    "print(sk.__version__)"
   ]
  },
  {
   "cell_type": "code",
   "execution_count": 45,
   "metadata": {},
   "outputs": [
    {
     "name": "stdout",
     "output_type": "stream",
     "text": [
      "['E:\\\\python tutorial', 'C:\\\\ProgramData\\\\Anaconda3\\\\python37.zip', 'C:\\\\ProgramData\\\\Anaconda3\\\\DLLs', 'C:\\\\ProgramData\\\\Anaconda3\\\\lib', 'C:\\\\ProgramData\\\\Anaconda3', '', 'C:\\\\ProgramData\\\\Anaconda3\\\\lib\\\\site-packages', 'C:\\\\ProgramData\\\\Anaconda3\\\\lib\\\\site-packages\\\\win32', 'C:\\\\ProgramData\\\\Anaconda3\\\\lib\\\\site-packages\\\\win32\\\\lib', 'C:\\\\ProgramData\\\\Anaconda3\\\\lib\\\\site-packages\\\\Pythonwin', 'C:\\\\ProgramData\\\\Anaconda3\\\\lib\\\\site-packages\\\\IPython\\\\extensions', 'C:\\\\Users\\\\Admin\\\\.ipython']\n"
     ]
    }
   ],
   "source": [
    "import sys\n",
    "print(sys.path)"
   ]
  },
  {
   "cell_type": "code",
   "execution_count": 61,
   "metadata": {},
   "outputs": [
    {
     "name": "stdout",
     "output_type": "stream",
     "text": [
      "aand the name is __main__\n",
      "Ye string harry ko de de thakur Harry1\n",
      "15\n"
     ]
    }
   ],
   "source": [
    "def printhar(string):\n",
    "    return f\"Ye string harry ko de de thakur {string}\"\n",
    "\n",
    "def add(num1, num2):\n",
    "    return num1 + num2 + 5\n",
    "\n",
    "\n",
    "print(\"aand the name is\", __name__)\n",
    "\n",
    "if __name__ == \"__main__\":\n",
    "    print(printhar(\"Harry1\"))\n",
    "    print(add(4, 6))  #koi aa file import kari hoy ae run na thy tena mate main valu function leva ma ave 6"
   ]
  },
  {
   "cell_type": "code",
   "execution_count": 7,
   "metadata": {},
   "outputs": [
    {
     "name": "stdout",
     "output_type": "stream",
     "text": [
      "John, cena, Randy, orton, Sheamus, khali, jinder mahal other wwe superstars\n"
     ]
    }
   ],
   "source": [
    "#join method use python\n",
    "lis = [\"John\", \"cena\", \"Randy\", \"orton\",\n",
    "       \"Sheamus\", \"khali\", \"jinder mahal\"]\n",
    "\n",
    "# for item in lis:\n",
    "#     print(item, \"and\", end=\" \")\n",
    "\n",
    "a = \", \".join(lis)\n",
    "print(a, \"other wwe superstars\")"
   ]
  },
  {
   "cell_type": "code",
   "execution_count": 73,
   "metadata": {},
   "outputs": [
    {
     "name": "stdout",
     "output_type": "stream",
     "text": [
      "Subscribe now\n",
      "<built-in function sum>\n",
      "this\n",
      "Executing now\n",
      "Harry is a good boy\n",
      "Executed\n"
     ]
    }
   ],
   "source": [
    "def function1():\n",
    "    print(\"Subscribe now\")\n",
    "\n",
    "func2 = function1\n",
    "del function1\n",
    "func2()\n",
    "\n",
    "def funcret(num):\n",
    "    if num==0:\n",
    "        return print\n",
    "    if num==1:\n",
    "        return sum\n",
    "\n",
    "a = funcret(1)\n",
    "print(a)\n",
    "\n",
    "def executor(func):\n",
    "    func(\"this\")\n",
    "\n",
    "\n",
    "executor(print)\n",
    "\n",
    "def dec1(func):\n",
    "    def nowexec():\n",
    "        print(\"Executing now\")\n",
    "        func()\n",
    "        print(\"Executed\")\n",
    "    return nowexec\n",
    "\n",
    "@dec1\n",
    "def who_is_harry():\n",
    "    print(\"Harry is a good boy\")\n",
    "\n",
    "# who_is_harry = dec1(who_is_harry)  #jo rite run karvo hoy program to @dec1 nahi lakhavanu \n",
    "                                     #@dec1 thi karvo hoy to pa6i ae nahi lakavunavu je atre comments ma j barave ae ok\n",
    "\n",
    "who_is_harry()\n",
    "\n"
   ]
  },
  {
   "cell_type": "code",
   "execution_count": null,
   "metadata": {},
   "outputs": [],
   "source": []
  }
 ],
 "metadata": {
  "kernelspec": {
   "display_name": "Python 3",
   "language": "python",
   "name": "python3"
  },
  "language_info": {
   "codemirror_mode": {
    "name": "ipython",
    "version": 3
   },
   "file_extension": ".py",
   "mimetype": "text/x-python",
   "name": "python",
   "nbconvert_exporter": "python",
   "pygments_lexer": "ipython3",
   "version": "3.7.6"
  }
 },
 "nbformat": 4,
 "nbformat_minor": 4
}
