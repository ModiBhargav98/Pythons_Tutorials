{
 "cells": [
  {
   "cell_type": "code",
   "execution_count": 1,
   "metadata": {},
   "outputs": [
    {
     "name": "stdout",
     "output_type": "stream",
     "text": [
      "1 ['hindi', 'physics']\n"
     ]
    }
   ],
   "source": [
    "# Classes - Template\n",
    "# Object - Instance Of the Class\n",
    "\n",
    "# DRY - Do not repeat Yourself\n",
    "\n",
    "# get_no_of_films(table)\n",
    "\n",
    "  \n",
    "\n",
    "\n",
    "class Student:\n",
    "    pass\n",
    "\n",
    "harry = Student()\n",
    "larry = Student()\n",
    "\n",
    "harry.name = \"Harry\"\n",
    "harry.std = 12\n",
    "harry.section = 1\n",
    "larry.std = 9\n",
    "larry.subjects = [\"hindi\", \"physics\"]\n",
    "print(harry.section, larry.subjects)"
   ]
  },
  {
   "cell_type": "code",
   "execution_count": 2,
   "metadata": {},
   "outputs": [
    {
     "name": "stdout",
     "output_type": "stream",
     "text": [
      "8\n",
      "{'__module__': '__main__', 'no_of_leaves': 8, '__dict__': <attribute '__dict__' of 'Employee' objects>, '__weakref__': <attribute '__weakref__' of 'Employee' objects>, '__doc__': None}\n",
      "{'__module__': '__main__', 'no_of_leaves': 9, '__dict__': <attribute '__dict__' of 'Employee' objects>, '__weakref__': <attribute '__weakref__' of 'Employee' objects>, '__doc__': None}\n",
      "9\n",
      "Harry is income at 455lakha\n"
     ]
    }
   ],
   "source": [
    "\n",
    "class Employee:\n",
    "    no_of_leaves = 8\n",
    "    pass\n",
    "\n",
    "harry = Employee()\n",
    "rohan = Employee()\n",
    "\n",
    "harry.name = \"Harry\"\n",
    "harry.salary = 455\n",
    "harry.role = \"Instructor\"\n",
    "\n",
    "rohan.name = \"Rohan\"\n",
    "rohan.salary = 4554\n",
    "rohan.role = \"Student\"\n",
    "\n",
    "print(Employee.no_of_leaves)\n",
    "print(Employee.__dict__)\n",
    "Employee.no_of_leaves = 9\n",
    "print(Employee.__dict__)\n",
    "print(Employee.no_of_leaves)\n",
    "print(f\"{harry.name} is income at {harry.salary}lakha\")"
   ]
  },
  {
   "cell_type": "code",
   "execution_count": 3,
   "metadata": {},
   "outputs": [
    {
     "name": "stdout",
     "output_type": "stream",
     "text": [
      "['__class__', '__delattr__', '__dict__', '__dir__', '__doc__', '__eq__', '__format__', '__ge__', '__getattribute__', '__gt__', '__hash__', '__init__', '__init_subclass__', '__le__', '__lt__', '__module__', '__ne__', '__new__', '__reduce__', '__reduce_ex__', '__repr__', '__setattr__', '__sizeof__', '__str__', '__subclasshook__', '__weakref__', 'no_of_leaves']\n"
     ]
    }
   ],
   "source": [
    "print(dir(Employee()))"
   ]
  },
  {
   "cell_type": "code",
   "execution_count": 4,
   "metadata": {},
   "outputs": [
    {
     "name": "stdout",
     "output_type": "stream",
     "text": [
      "255\n",
      "Harry\n",
      "The Name is Harry. Salary is 255 and role is Instructor\n"
     ]
    }
   ],
   "source": [
    "\n",
    "class Employee:\n",
    "    no_of_leaves = 8\n",
    "\n",
    "    def __init__(self, aname, asalary, arole):\n",
    "        self.name = aname\n",
    "        self.salary = asalary\n",
    "        self.role = arole\n",
    "\n",
    "    def printdetails(self):\n",
    "        return f\"The Name is {self.name}. Salary is {self.salary} and role is {self.role}\"\n",
    "\n",
    "\n",
    "harry = Employee(\"Harry\", 255, \"Instructor\")\n",
    "\n",
    "# rohan = Employee()\n",
    "# harry.name = \"Harry\"\n",
    "# harry.salary = 455\n",
    "# harry.role = \"Instructor\"\n",
    "\n",
    "# rohan.name = \"Rohan\"\n",
    "# rohan.salary = 4554\n",
    "# rohan.role = \"Student\"\n",
    "\n",
    "print(harry.salary)\n",
    "print(harry.name)\n",
    "print(harry.printdetails())"
   ]
  },
  {
   "cell_type": "code",
   "execution_count": 5,
   "metadata": {},
   "outputs": [
    {
     "name": "stdout",
     "output_type": "stream",
     "text": [
      "The Name is Harry. Salary is 255 and role is Instructor\n",
      "The Name is rohan. Salary is 85 and role is Developer\n"
     ]
    }
   ],
   "source": [
    "class Employee:\n",
    "    no_of_leaves = 8\n",
    "\n",
    "    def __init__(self, aname, asalary, arole):\n",
    "        self.name = aname\n",
    "        self.salary = asalary\n",
    "        self.role = arole\n",
    "\n",
    "    def printdetails(self):\n",
    "        print(f\"The Name is {self.name}. Salary is {self.salary} and role is {self.role}\")\n",
    "        \n",
    "    @classmethod\n",
    "    def change_leaves(cls,newleves):\n",
    "        cls.no_of_leves = newleves\n",
    "\n",
    "\n",
    "harry = Employee(\"Harry\", 255, \"Instructor\")\n",
    "rohan = Employee(\"rohan\",85,\"Developer\")\n",
    "\n",
    "rohan.change_leaves(45)\n",
    "\n",
    "harry.printdetails()\n",
    "rohan.printdetails()"
   ]
  },
  {
   "cell_type": "code",
   "execution_count": 6,
   "metadata": {},
   "outputs": [
    {
     "name": "stdout",
     "output_type": "stream",
     "text": [
      "480\n",
      "8\n"
     ]
    }
   ],
   "source": [
    "\n",
    "class Employee:\n",
    "    no_of_leaves = 8\n",
    "\n",
    "    def __init__(self, aname, asalary, arole):\n",
    "        self.name = aname\n",
    "        self.salary = asalary\n",
    "        self.role = arole\n",
    "\n",
    "    def printdetails(self):\n",
    "        return f\"The Name is {self.name}. Salary is {self.salary} and role is {self.role}\"\n",
    "\n",
    "    @classmethod\n",
    "    def change_leaves(cls, newleaves):\n",
    "        cls.no_of_leaves = newleaves\n",
    "\n",
    "    @classmethod  #alternative class methos\n",
    "    def from_dash(cls, string):\n",
    "        # params = string.split(\"-\")\n",
    "        # print(params)\n",
    "        # return cls(params[0], params[1], params[2])\n",
    "        return cls(*string.split(\"-\"))\n",
    "\n",
    "\n",
    "harry = Employee(\"Harry\", 255, \"Instructor\")\n",
    "rohan = Employee(\"Rohan\", 455, \"Student\")\n",
    "karan = Employee.from_dash(\"Karan-480-Student\") # jo karan name no instaces na objects ni arguments \n",
    "                                                 # avi rite string ma pass karvi hoy tare use thy \n",
    "                                                                                    \n",
    "\n",
    "print(karan.salary)\n",
    "print(karan.no_of_leaves)\n",
    "# rohan.change_leaves(34)\n",
    "\n",
    "# print(harry.no_of_leaves)\n",
    "\n"
   ]
  },
  {
   "cell_type": "code",
   "execution_count": 7,
   "metadata": {},
   "outputs": [
    {
     "name": "stdout",
     "output_type": "stream",
     "text": [
      "This is good Rohan\n",
      "The Name is Karan. Salary is 480 and role is Student\n"
     ]
    }
   ],
   "source": [
    "\n",
    "class Employee:\n",
    "    no_of_leaves = 8\n",
    "\n",
    "    def __init__(self, aname, asalary, arole):\n",
    "        self.name = aname\n",
    "        self.salary = asalary\n",
    "        self.role = arole\n",
    "\n",
    "    def printdetails(self):\n",
    "        return f\"The Name is {self.name}. Salary is {self.salary} and role is {self.role}\"\n",
    "\n",
    "    @classmethod\n",
    "    def change_leaves(cls, newleaves):\n",
    "        cls.no_of_leaves = newleaves\n",
    "\n",
    "    @classmethod\n",
    "    def from_dash(cls, string):\n",
    "        return cls(*string.split(\"-\"))\n",
    "\n",
    "    @staticmethod\n",
    "    def printgood(string):\n",
    "        print(\"This is good \" + string)\n",
    "\n",
    "harry = Employee(\"Harry\", 255, \"Instructor\")\n",
    "rohan = Employee(\"Rohan\", 455, \"Student\")\n",
    "karan = Employee.from_dash(\"Karan-480-Student\")\n",
    "\n",
    "Employee.printgood(\"Rohan\")\n",
    "print(karan.printdetails())"
   ]
  },
  {
   "cell_type": "code",
   "execution_count": 8,
   "metadata": {},
   "outputs": [
    {
     "name": "stdout",
     "output_type": "stream",
     "text": [
      "85\n",
      "This is good modi\n",
      "None\n",
      "The Programmer's Name is Shubham. Salary is 555 and role is Programmer.The languages are ['python']\n"
     ]
    }
   ],
   "source": [
    "# single inheritance\n",
    "class Employee:\n",
    "    no_of_holiday = 85\n",
    "\n",
    "\n",
    "    def __init__(self, aname, asalary, arole):\n",
    "        self.name = aname\n",
    "        self.salary = asalary\n",
    "        self.role = arole\n",
    "\n",
    "    def printdetails(self):\n",
    "        return f\"The Name is {self.name}. Salary is {self.salary} and role is {self.role}\"\n",
    "\n",
    "    @classmethod\n",
    "    def change_leaves(cls, newleaves):\n",
    "        cls.no_of_leaves = newleaves\n",
    "\n",
    "    @classmethod\n",
    "    def from_dash(cls, string):\n",
    "        return cls(*string.split(\"-\"))\n",
    "\n",
    "    @staticmethod\n",
    "    def printgood(string):\n",
    "        print(\"This is good \" + string)\n",
    "\n",
    "\n",
    "class Programmer(Employee):\n",
    "#     no_of_holiday = 56\n",
    "    def __init__(self, aname, asalary, arole, languages):\n",
    "        self.name = aname\n",
    "        self.salary = asalary\n",
    "        self.role = arole\n",
    "        self.languages = languages\n",
    "\n",
    "\n",
    "    def printprog(self):\n",
    "        return f\"The Programmer's Name is {self.name}. Salary is {self.salary} and role is {self.role}.The languages are {self.languages}\"\n",
    "\n",
    "\n",
    "\n",
    "harry = Employee(\"Harry\", 255, \"Instructor\")\n",
    "rohan = Employee(\"Rohan\", 455, \"Student\")\n",
    "\n",
    "shubham = Programmer(\"Shubham\", 555, \"Programmer\", [\"python\"])\n",
    "karan = Programmer(\"Karan\", 777, \"Programmer\", [\"python\", \"Cpp\"])\n",
    "print(karan.no_of_holiday)\n",
    "print(Programmer.printgood(\"modi\"))\n",
    "print(shubham.printprog())"
   ]
  },
  {
   "cell_type": "code",
   "execution_count": 9,
   "metadata": {},
   "outputs": [
    {
     "name": "stdout",
     "output_type": "stream",
     "text": [
      "C++\n",
      "The Name is Karan. Game is ['Cricket']\n",
      "8\n"
     ]
    }
   ],
   "source": [
    "#multiple inheritance\n",
    "class Employee:\n",
    "    no_of_leaves = 8\n",
    "    var = 8\n",
    "\n",
    "    def __init__(self, aname, asalary, arole):\n",
    "        self.name = aname\n",
    "        self.salary = asalary\n",
    "        self.role = arole\n",
    "\n",
    "    def printdetails(self):\n",
    "        return f\"The Name is {self.name}. Salary is {self.salary} and role is {self.role}\"\n",
    "\n",
    "    @classmethod\n",
    "    def change_leaves(cls, newleaves):\n",
    "        cls.no_of_leaves = newleaves\n",
    "\n",
    "    @classmethod\n",
    "    def from_dash(cls, string):\n",
    "        return cls(*string.split(\"-\"))\n",
    "\n",
    "    @staticmethod\n",
    "    def printgood(string):\n",
    "        print(\"This is good \" + string)\n",
    "\n",
    "class Player:\n",
    "#     var = 9\n",
    "    no_of_games = 4\n",
    "    def __init__(self, name, game):\n",
    "        self.name = name\n",
    "        self.game =game\n",
    "\n",
    "    def printdetails(self):\n",
    "        return f\"The Name is {self.name}. Game is {self.game}\"\n",
    "\n",
    "class CoolProgramer(Player, Employee):\n",
    "\n",
    "    language = \"C++\"\n",
    "    def printlanguage(self):\n",
    "        print(self.language)\n",
    "\n",
    "harry = Employee(\"Harry\", 255, \"Instructor\")\n",
    "rohan = Employee(\"Rohan\", 455, \"Student\")\n",
    "\n",
    "shubham = Player(\"Shubham\", [\"Cricket\"])\n",
    "karan = CoolProgramer(\"Karan\",[\"Cricket\"])\n",
    "karan.printlanguage()\n",
    "det = karan.printdetails()\n",
    "print(det)\n",
    "print(karan.var)"
   ]
  },
  {
   "cell_type": "code",
   "execution_count": 2,
   "metadata": {},
   "outputs": [
    {
     "name": "stdout",
     "output_type": "stream",
     "text": [
      "1\n"
     ]
    }
   ],
   "source": [
    "\n",
    "class Dad:\n",
    "    basketball =6\n",
    "\n",
    "class Son(Dad):\n",
    "    dance =1\n",
    "    basketball = 9\n",
    "    def isdance(self):\n",
    "        return f\"Yes I dance {self.dance} no of times\"\n",
    "\n",
    "class Grandson(Son):\n",
    "    dance =6\n",
    "    guitar = 1\n",
    "\n",
    "    def isdance(self):\n",
    "        return f\"Jackson yeah!\" \\\n",
    "            f\"Yes I dance very awesomely {self.dance} no of times\"\n",
    "\n",
    "darry = Dad()\n",
    "larry = Son()\n",
    "harry = Grandson()\n",
    "\n",
    "# print(darry.guitar)\n",
    "print(harry.guitar)\n",
    "\n",
    "# electronic device\n",
    "# pocket gadget\n",
    "# phone"
   ]
  },
  {
   "cell_type": "code",
   "execution_count": 11,
   "metadata": {},
   "outputs": [
    {
     "name": "stdout",
     "output_type": "stream",
     "text": [
      "8\n",
      "9\n",
      "98\n"
     ]
    }
   ],
   "source": [
    "\n",
    "# Public -\n",
    "# Protected -\n",
    "# Private -\n",
    "\n",
    "class Employee:\n",
    "    no_of_leaves = 8 #public variable\n",
    "    var = 8  #public var\n",
    "    _protec = 9  #protected i any classis uses \n",
    "    __pr = 98   #private is specific propertes\n",
    "\n",
    "    def __init__(self, aname, asalary, arole):\n",
    "        self.name = aname\n",
    "        self.salary = asalary\n",
    "        self.role = arole\n",
    "\n",
    "    def printdetails(self):\n",
    "        return f\"The Name is {self.name}. Salary is {self.salary} and role is {self.role}\"\n",
    "\n",
    "    @classmethod\n",
    "    def change_leaves(cls, newleaves):\n",
    "        cls.no_of_leaves = newleaves\n",
    "\n",
    "    @classmethod\n",
    "    def from_dash(cls, string):\n",
    "        return cls(*string.split(\"-\"))\n",
    "\n",
    "    @staticmethod\n",
    "    def printgood(string):\n",
    "        print(\"This is good \" + string)\n",
    "\n",
    "emp = Employee(\"harry\", 343, \"Programmer\")\n",
    "print(emp.var)    #public\n",
    "print(emp._protec)  #protected\n",
    "print(emp._Employee__pr) #private is instaces and objects two us in runs"
   ]
  },
  {
   "cell_type": "code",
   "execution_count": 3,
   "metadata": {},
   "outputs": [
    {
     "name": "stdout",
     "output_type": "stream",
     "text": [
      "I am a class variable in class A\n",
      "Special I am inside class A's constructor Instance var in class A\n"
     ]
    }
   ],
   "source": [
    "\n",
    "class A:\n",
    "    classvar1 = \"I am a class variable in class A\"\n",
    "    def __init__(self):\n",
    "        self.var1 = \"I am inside class A's constructor\"\n",
    "        self.classvar1 = \"Instance var in class A\"\n",
    "        self.special = \"Special\"\n",
    "\n",
    "class B(A):\n",
    "    classvar1 = \"I am in class B\"\n",
    "\n",
    "    def __init__(self):\n",
    "        self.var1 = \"I am inside class B's constructor\"\n",
    "        self.classvar1 = \"Instance var in class B\"\n",
    "        self.special = \"programming\"\n",
    "        super().__init__()\n",
    "        print(super().classvar1)\n",
    "\n",
    "\n",
    "a = A()\n",
    "b = B()\n",
    "\n",
    "print(b.special, b.var1, b.classvar1)"
   ]
  },
  {
   "cell_type": "code",
   "execution_count": 13,
   "metadata": {},
   "outputs": [
    {
     "name": "stdout",
     "output_type": "stream",
     "text": [
      "This is a method from class A\n"
     ]
    }
   ],
   "source": [
    "\n",
    "class A:\n",
    "    def met(self):\n",
    "        print(\"This is a method from class A\")\n",
    "\n",
    "class B(A):\n",
    "    def met(self):\n",
    "        print(\"This is a method from class B\")\n",
    "\n",
    "class C(A):\n",
    "    pass\n",
    "#     def met(self):\n",
    "#         print(\"This is a method from class C\")\n",
    "\n",
    "class D(C, B):\n",
    "    def met(self):\n",
    "        print(\"This is a method from class D\")\n",
    "\n",
    "\n",
    "a = A()\n",
    "b = B()\n",
    "c = C()\n",
    "d = D()\n",
    "c.met()"
   ]
  },
  {
   "cell_type": "code",
   "execution_count": 14,
   "metadata": {},
   "outputs": [
    {
     "name": "stdout",
     "output_type": "stream",
     "text": [
      "The Name is Harry. Salary is 345 and role is Programmer\n",
      "Employee('Rohan', 55, 'Cleaner')\n",
      "The Name is Rohan. Salary is 55 and role is Cleaner\n",
      "400\n",
      "6.2727272727272725\n"
     ]
    }
   ],
   "source": [
    "\n",
    "class Employee:\n",
    "    no_of_leaves = 8\n",
    "\n",
    "    def __init__(self, aname, asalary, arole):\n",
    "        self.name = aname\n",
    "        self.salary = asalary\n",
    "        self.role = arole\n",
    "\n",
    "    def printdetails(self):\n",
    "        return f\"The Name is {self.name}. Salary is {self.salary} and role is {self.role}\"\n",
    "\n",
    "    @classmethod\n",
    "    def change_leaves(cls, newleaves):\n",
    "        cls.no_of_leaves = newleaves\n",
    "\n",
    "    def __add__(self, other):\n",
    "        return self.salary + other.salary\n",
    "\n",
    "    def __truediv__(self, other):\n",
    "        return self.salary / other.salary\n",
    "\n",
    "    def __repr__(self):\n",
    "        return f\"Employee('{self.name}', {self.salary}, '{self.role}')\"\n",
    "\n",
    "    def __str__(self):\n",
    "        return f\"The Name is {self.name}. Salary is {self.salary} and role is {self.role}\"\n",
    "\n",
    "emp1 =Employee(\"Harry\", 345, \"Programmer\")\n",
    "emp2 =Employee(\"Rohan\", 55, \"Cleaner\")\n",
    "print(str(emp1))\n",
    "print(repr(emp2))\n",
    "print(emp2.printdetails())\n",
    "print(emp1 + emp2)\n",
    "print(emp1/emp2)"
   ]
  },
  {
   "cell_type": "code",
   "execution_count": 15,
   "metadata": {},
   "outputs": [
    {
     "name": "stdout",
     "output_type": "stream",
     "text": [
      "42\n",
      "6\n"
     ]
    }
   ],
   "source": [
    "from abc import ABC, abstractmethod\n",
    "\n",
    "class Shape(ABC):\n",
    "    @abstractmethod\n",
    "    def printarea(self):\n",
    "        return 0\n",
    "\n",
    "class Rectangle(Shape):\n",
    "    type = \"Rectangle\"\n",
    "    sides = 4\n",
    "    def __init__(self):\n",
    "        self.length = 6\n",
    "        self.breadth = 7\n",
    "\n",
    "    def printarea(self):\n",
    "        return self.length * self.breadth\n",
    "\n",
    "rect1 = Rectangle()\n",
    "print(rect1.printarea())\n",
    "print(rect1.length)"
   ]
  },
  {
   "cell_type": "code",
   "execution_count": 16,
   "metadata": {},
   "outputs": [
    {
     "name": "stdout",
     "output_type": "stream",
     "text": [
      "Hindustani.Supporter@codewithharry.com\n",
      "US.Supporter@codewithharry.com\n",
      "Setting now...\n",
      "this\n",
      "Email is not set. Please set it using setter\n",
      "Setting now...\n",
      "Harry.Perry@codewithharry.com\n"
     ]
    }
   ],
   "source": [
    "\n",
    "class Employee:\n",
    "    def __init__(self, fname, lname):\n",
    "        self.fname = fname\n",
    "        self.lname = lname\n",
    "        # self.email = f\"{fname}.{lname}@codewithharry.com\"\n",
    "\n",
    "    def explain(self):\n",
    "        return f\"This employee is {self.fname} {self.lname}\"\n",
    "\n",
    "    @property\n",
    "    def email(self):\n",
    "        if self.fname==None or self.lname == None:\n",
    "            return \"Email is not set. Please set it using setter\"\n",
    "        return f\"{self.fname}.{self.lname}@codewithharry.com\"\n",
    "\n",
    "    @email.setter\n",
    "    def email(self, string):\n",
    "        print(\"Setting now...\")\n",
    "        names = string.split(\"@\")[0]\n",
    "        self.fname = names.split(\".\")[0]\n",
    "        self.lname = names.split(\".\")[1]\n",
    "\n",
    "    @email.deleter\n",
    "    def email(self):\n",
    "        self.fname = None\n",
    "        self.lname = None\n",
    "\n",
    "\n",
    "hindustani_supporter = Employee(\"Hindustani\", \"Supporter\")\n",
    "# nikhil_raj_pandey = Employee(\"Nikhil\", \"Raj\")\n",
    "\n",
    "print(hindustani_supporter.email)\n",
    "\n",
    "hindustani_supporter.fname = \"US\"\n",
    "\n",
    "print(hindustani_supporter.email)\n",
    "hindustani_supporter.email = \"this.that@codewithharry.com\"\n",
    "print(hindustani_supporter.fname)\n",
    "\n",
    "del hindustani_supporter.email\n",
    "print(hindustani_supporter.email)\n",
    "hindustani_supporter.email = \"Harry.Perry@codewithharry.com\"\n",
    "print(hindustani_supporter.email)"
   ]
  },
  {
   "cell_type": "code",
   "execution_count": 20,
   "metadata": {},
   "outputs": [
    {
     "name": "stdout",
     "output_type": "stream",
     "text": [
      "<generator object getNum at 0x000002A935589AC8>\n"
     ]
    }
   ],
   "source": [
    "def getNum (x):\n",
    "    for i in range(x):\n",
    "        yield i\n",
    "\n",
    "seq = getNum (2)\n",
    "# print(seq.__next__())\n",
    "# print(seq.__next__())\n",
    "# print(seq.__next__())\n",
    "print(seq)"
   ]
  },
  {
   "cell_type": "code",
   "execution_count": 29,
   "metadata": {},
   "outputs": [
    {
     "name": "stdout",
     "output_type": "stream",
     "text": [
      "0\n",
      "1\n",
      "2\n",
      "m\n",
      "o\n",
      "m\n",
      "o\n",
      "d\n",
      "i\n"
     ]
    }
   ],
   "source": [
    "\n",
    "\"\"\"\n",
    "Iterable - __iter__() or __getitem__()\n",
    "Iterator - __next__()\n",
    "Iteration -\n",
    "\n",
    "\"\"\"\n",
    "\n",
    "def gen(n):\n",
    "    for i in range(n):\n",
    "        yield i\n",
    "\n",
    "g = gen(3)\n",
    "# print(g.__next__())\n",
    "# print(g.__next__())\n",
    "# print(g.__next__())\n",
    "# print(g.__next__())\n",
    "\n",
    "\n",
    "for i in g:\n",
    "    print(i)\n",
    "\n",
    "h = 'modi'\n",
    "ier = iter(h)\n",
    "print(ier.__next__()) #joei atla  selected charcter j leva hoy tare aeno use thy\n",
    "print(ier.__next__())\n",
    "\n",
    "for c in h:\n",
    "    print(c)\n"
   ]
  },
  {
   "cell_type": "code",
   "execution_count": null,
   "metadata": {},
   "outputs": [],
   "source": []
  }
 ],
 "metadata": {
  "kernelspec": {
   "display_name": "Python 3",
   "language": "python",
   "name": "python3"
  },
  "language_info": {
   "codemirror_mode": {
    "name": "ipython",
    "version": 3
   },
   "file_extension": ".py",
   "mimetype": "text/x-python",
   "name": "python",
   "nbconvert_exporter": "python",
   "pygments_lexer": "ipython3",
   "version": "3.7.6"
  }
 },
 "nbformat": 4,
 "nbformat_minor": 4
}
