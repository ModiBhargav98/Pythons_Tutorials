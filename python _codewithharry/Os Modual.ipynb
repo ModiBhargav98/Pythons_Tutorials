{
 "cells": [
  {
   "cell_type": "code",
   "execution_count": 2,
   "metadata": {},
   "outputs": [],
   "source": [
    "\n",
    "import os\n",
    "# print(dir(os))\n",
    "# print(os.getcwd())\n",
    "# os.chdir(\"C://\")\n",
    "# print(os.getcwd())\n",
    "# f = open(\"harry.txt\")\n",
    "# print(os.listdir(\"C://\"))\n",
    "# os.makedirs(\"This/that\")\n",
    "# os.rename(\"harry.txt\", \"codewithharry.txt\")\n",
    "# print(os.environ.get('Path'))\n",
    "# print(os.path.join(\"C:/\", \"/harry.txt\"))\n",
    "\n",
    "# print(os.path.exists(\"C://Program Files2\"))\n",
    "# print(os.path.isfile(\"C://Program Files\"))\n"
   ]
  },
  {
   "cell_type": "code",
   "execution_count": 4,
   "metadata": {},
   "outputs": [],
   "source": [
    "# Oh soldier Prettify my Folder\n",
    "\n",
    "# path, dictionary file, format\n",
    "\n",
    "# def soldier(\"C://\", \"harry.txt\", \"jpg\")\n",
    "\n",
    "import os\n",
    "def soldier(path, file, format):\n",
    "    os.chdir(path)\n",
    "    i = 1\n",
    "    files = os.listdir(path)\n",
    "    with open(file) as f:\n",
    "        filelist = f.read().split(\"\\n\")\n",
    "\n",
    "    for file in files:\n",
    "        if file not in filelist:\n",
    "            os.rename(file, file.capitalize())\n",
    "\n",
    "        if os.path.splitext(file)[1] == format:\n",
    "            os.rename(file, f\"{i}{format}\")\n",
    "            i +=1\n",
    "\n",
    "soldier(r\"C:\\Users\\Admin\\Desktop\\testig\",\n",
    "        r\"E:\\jupyter-notebook code\\python _codewithharry\\modi.txt\", \".jpg\" )"
   ]
  },
  {
   "cell_type": "code",
   "execution_count": null,
   "metadata": {},
   "outputs": [],
   "source": []
  }
 ],
 "metadata": {
  "kernelspec": {
   "display_name": "Python 3",
   "language": "python",
   "name": "python3"
  },
  "language_info": {
   "codemirror_mode": {
    "name": "ipython",
    "version": 3
   },
   "file_extension": ".py",
   "mimetype": "text/x-python",
   "name": "python",
   "nbconvert_exporter": "python",
   "pygments_lexer": "ipython3",
   "version": "3.7.6"
  }
 },
 "nbformat": 4,
 "nbformat_minor": 4
}
