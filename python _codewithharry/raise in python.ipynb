{
 "cells": [
  {
   "cell_type": "code",
   "execution_count": 4,
   "metadata": {},
   "outputs": [
    {
     "name": "stdout",
     "output_type": "stream",
     "text": [
      "Enter your namemodi\n",
      "Exception handled\n"
     ]
    }
   ],
   "source": [
    "\n",
    "# a = input(\"What is your name\")\n",
    "# b = input(\"How much do you earn\")\n",
    "# if int(b)==0:\n",
    "#     raise ZeroDivisionError(\"b is 0 so stopping the program\")\n",
    "# if a.isnumeric():\n",
    "#     raise Exception(\"Numbers are not allowed\")\n",
    "#\n",
    "# print(f\"Hello {a}\")\n",
    "# 1000 lines taking 1 hour\n",
    "\n",
    "\n",
    "c = input(\"Enter your name\")\n",
    "try:\n",
    "    print(a)\n",
    "\n",
    "except Exception as e:\n",
    "\n",
    "    if c ==\"harry\":\n",
    "        raise ValueError(\"Harry is blocked he is not allowed\")\n",
    "\n",
    "    print(\"Exception handled\")"
   ]
  },
  {
   "cell_type": "code",
   "execution_count": null,
   "metadata": {},
   "outputs": [],
   "source": []
  }
 ],
 "metadata": {
  "kernelspec": {
   "display_name": "Python 3",
   "language": "python",
   "name": "python3"
  },
  "language_info": {
   "codemirror_mode": {
    "name": "ipython",
    "version": 3
   },
   "file_extension": ".py",
   "mimetype": "text/x-python",
   "name": "python",
   "nbconvert_exporter": "python",
   "pygments_lexer": "ipython3",
   "version": "3.7.6"
  }
 },
 "nbformat": 4,
 "nbformat_minor": 4
}
