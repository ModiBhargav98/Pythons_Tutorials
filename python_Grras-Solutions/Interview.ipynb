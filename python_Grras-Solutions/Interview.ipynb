{
 "cells": [
  {
   "cell_type": "code",
   "execution_count": null,
   "metadata": {},
   "outputs": [],
   "source": [
    "# 1) Write a Python program to count the number of strings where the string length is 2 or more and the first and last character are same from a given list of strings.\n",
    "a = ['abc', 'xyz', 'aba', '1221']\n",
    "for i in range(0,len(a)):\n",
    "#     count = 0\n",
    "    s = 0\n",
    "    while (len(a[i]) >= 2):\n",
    "#         count = count + 1\n",
    "        s = s + 1\n",
    "        \n",
    "#         a[i]++\n",
    "    print(s.count)"
   ]
  },
  {
   "cell_type": "code",
   "execution_count": null,
   "metadata": {},
   "outputs": [],
   "source": [
    "\"\"\"\"2) Write a Python program to get a list, sorted in increasing order by the last element in each tuple from a given list of non-empty tuples.\n",
    "Sample List : [(2, 5), (1, 2), (4, 4), (2, 3), (2, 1)]\n",
    "Expected Result : [(2, 1), (1, 2), (2, 3), (4, 4), (2, 5)]\"\"\"\n",
    " \n",
    "a = [(2, 5), (1, 2), (4, 4), (2, 3), (2, 1)]\n",
    "b = a[:]\n",
    "b.reverse()\n",
    "print(b)\n"
   ]
  },
  {
   "cell_type": "code",
   "execution_count": null,
   "metadata": {},
   "outputs": [],
   "source": [
    "\"\"\"3) Write a Python function that takes two lists and returns True if they have at least one common member.\n",
    "Sample List : [1,2,3,4,5]\n",
    "Sample List1 : [5,6,7,8,9]\"\"\"\n",
    "def commonnumber(a,b):\n",
    "    c = set(a)\n",
    "    d = set(b)\n",
    "    if (c and d):\n",
    "        return True\n",
    "    else:\n",
    "        return False\n",
    "    \n",
    "a = [1,2,3,4,5]\n",
    "b = [5,6,7,8,9]\n",
    "print(\"the two lists common number is\",commonnumber(a,b))"
   ]
  },
  {
   "cell_type": "code",
   "execution_count": null,
   "metadata": {},
   "outputs": [],
   "source": [
    "\"\"\"4) Write a payroll program that pays time and a half for anything over 40 hours. This should have 3\n",
    "functions in addition to main.\n",
    "1. Take input from user like employee name, email,total hours worked and rate / hour (hours must be\n",
    "between 8 to 86, rate must be between $7.00 to $50.00)\n",
    "2. take a email id of user and if the user exitst then also take overtime hours (hours must be <40)\n",
    "3. take email id from user and calculate total salary of employee and display as below\n",
    "output:\n",
    "Payroll Information:\n",
    "Pay rate $10.00\n",
    "Regular Hours 40\n",
    "Overtime Hours 20\n",
    "Regular pay $400.00\n",
    "\n",
    "Overtime pay $300.00\n",
    "Total Pay $700.00\n",
    "4. exit\"\"\"\n",
    "\n"
   ]
  },
  {
   "cell_type": "code",
   "execution_count": null,
   "metadata": {},
   "outputs": [],
   "source": []
  }
 ],
 "metadata": {
  "kernelspec": {
   "display_name": "Python 3",
   "language": "python",
   "name": "python3"
  },
  "language_info": {
   "codemirror_mode": {
    "name": "ipython",
    "version": 3
   },
   "file_extension": ".py",
   "mimetype": "text/x-python",
   "name": "python",
   "nbconvert_exporter": "python",
   "pygments_lexer": "ipython3",
   "version": "3.7.6"
  }
 },
 "nbformat": 4,
 "nbformat_minor": 4
}
