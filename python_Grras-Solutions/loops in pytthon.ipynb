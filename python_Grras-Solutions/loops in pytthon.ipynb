{
 "cells": [
  {
   "cell_type": "raw",
   "metadata": {},
   "source": [
    "while condition :\n",
    "    statement1\n",
    "    statement2\n",
    "    statement3\n",
    "    statement4\n",
    "else:\n",
    "    statement"
   ]
  },
  {
   "cell_type": "code",
   "execution_count": 1,
   "metadata": {},
   "outputs": [
    {
     "name": "stdout",
     "output_type": "stream",
     "text": [
      "squre is given function 1\n",
      "squre is given function 4\n",
      "squre is given function 9\n",
      "squre is given function 16\n",
      "squre is given function 25\n"
     ]
    }
   ],
   "source": [
    "c=1\n",
    "while c<=5:\n",
    "    print('squre is given function',c**2)\n",
    "    c += 1\n"
   ]
  },
  {
   "cell_type": "code",
   "execution_count": 2,
   "metadata": {},
   "outputs": [
    {
     "name": "stdout",
     "output_type": "stream",
     "text": [
      "1\n",
      "4\n",
      "5\n",
      "8\n",
      "9\n"
     ]
    }
   ],
   "source": [
    "c = 1\n",
    "while c <= 10:\n",
    "    print(c)\n",
    "    if c % 2:\n",
    "        c += 2\n",
    "    c += 1"
   ]
  },
  {
   "cell_type": "code",
   "execution_count": 3,
   "metadata": {},
   "outputs": [
    {
     "name": "stdout",
     "output_type": "stream",
     "text": [
      "3\n",
      "5\n",
      "7\n",
      "9\n",
      "11\n"
     ]
    }
   ],
   "source": [
    "c = 1\n",
    "while c <= 10:\n",
    "    if c % 2:\n",
    "        c += 2\n",
    "    else:\n",
    "        c += 2\n",
    "    print(c)"
   ]
  },
  {
   "cell_type": "code",
   "execution_count": 4,
   "metadata": {},
   "outputs": [
    {
     "name": "stdout",
     "output_type": "stream",
     "text": [
      "1\n",
      "3\n",
      "5\n",
      "7\n",
      "9\n"
     ]
    }
   ],
   "source": [
    "c = 1\n",
    "while c <= 10:\n",
    "    print(c)\n",
    "    if c % 2==0:\n",
    "        c += 2\n",
    "    else:\n",
    "        c += 2"
   ]
  },
  {
   "cell_type": "code",
   "execution_count": 5,
   "metadata": {},
   "outputs": [
    {
     "name": "stdout",
     "output_type": "stream",
     "text": [
      "1\n",
      "3\n",
      "3\n",
      "8\n",
      "8\n",
      "13\n",
      "do you get it ?\n"
     ]
    }
   ],
   "source": [
    "c = 1\n",
    "while c <= 10:\n",
    "    print(c)\n",
    "    c += 4\n",
    "    if c % 5 == 0:\n",
    "        c -= 2\n",
    "    else:\n",
    "        c += 1\n",
    "    print(c)\n",
    "else:\n",
    "    print('do you get it ?')"
   ]
  },
  {
   "cell_type": "code",
   "execution_count": 6,
   "metadata": {},
   "outputs": [
    {
     "name": "stdout",
     "output_type": "stream",
     "text": [
      "5\n",
      "9\n",
      "13\n"
     ]
    }
   ],
   "source": [
    "c = 1\n",
    "while c <= 10:\n",
    "    c += 1\n",
    "    if c % 2 == 0:\n",
    "        c += 3\n",
    "    else:\n",
    "        c += 3\n",
    "    print(c)"
   ]
  },
  {
   "cell_type": "code",
   "execution_count": 7,
   "metadata": {},
   "outputs": [
    {
     "name": "stdout",
     "output_type": "stream",
     "text": [
      "2\n",
      "5\n",
      "6\n",
      "9\n",
      "10\n",
      "13\n"
     ]
    }
   ],
   "source": [
    "c = 1\n",
    "while c <= 10:\n",
    "    c += 1\n",
    "    print(c)\n",
    "    if c % 2:\n",
    "        c += 3\n",
    "    else:\n",
    "        c += 3\n",
    "    print(c)"
   ]
  },
  {
   "cell_type": "code",
   "execution_count": 8,
   "metadata": {},
   "outputs": [
    {
     "name": "stdout",
     "output_type": "stream",
     "text": [
      "loop start from here\n",
      "loop ends here\n"
     ]
    }
   ],
   "source": [
    "c = 11\n",
    "print('loop start from here')\n",
    "while c <=10:\n",
    "    c =1 \n",
    "    print('whola i am inside the loop')\n",
    "    print(f'hello {c}')\n",
    "    c += 1\n",
    "else:\n",
    "    print('loop ends here')"
   ]
  },
  {
   "cell_type": "code",
   "execution_count": 9,
   "metadata": {},
   "outputs": [
    {
     "name": "stdout",
     "output_type": "stream",
     "text": [
      "this is the inside of loop\n",
      "hello 1\n",
      "this is the inside of loop\n",
      "hello 2\n",
      "this is the inside of loop\n",
      "hello 3\n",
      "this is the inside of loop\n",
      "hello 4\n",
      "this is the inside of loop\n",
      "hello 5\n",
      "this is the inside of loop\n",
      "hello 6\n",
      "this is the inside of loop\n",
      "hello 7\n",
      "this is the inside of loop\n",
      "hello 8\n",
      "this is the inside of loop\n",
      "hello 9\n",
      "bye-bye\n"
     ]
    }
   ],
   "source": [
    "c = 1\n",
    "while c <= 50:\n",
    "    if c == 10 :\n",
    "        print('bye-bye')\n",
    "        break\n",
    "    print('this is the inside of loop')\n",
    "    print(f'hello {c}')\n",
    "    c += 1\n",
    "else:\n",
    "    print('do i run or not????')"
   ]
  },
  {
   "cell_type": "code",
   "execution_count": null,
   "metadata": {},
   "outputs": [
    {
     "name": "stdout",
     "output_type": "stream",
     "text": [
      "hello world time 5\n",
      "hello world time 4\n",
      "hello world time 3\n"
     ]
    }
   ],
   "source": [
    "c = 5 \n",
    "while c >=0:\n",
    "    if c == 2:\n",
    "        continue\n",
    "    print('hello world time',c)\n",
    "    c -= 1\n",
    "else:\n",
    "    print('condition galt or me bhi galt')"
   ]
  },
  {
   "cell_type": "code",
   "execution_count": null,
   "metadata": {},
   "outputs": [],
   "source": [
    "c = 1\n",
    "while c <= 10:\n",
    "    print(c)\n",
    "    if c % 2 :\n",
    "        c += 3\n",
    "    c += 1\n",
    "else:\n",
    "    print('doo i run or not')"
   ]
  },
  {
   "cell_type": "code",
   "execution_count": null,
   "metadata": {},
   "outputs": [],
   "source": [
    "c = 1\n",
    "while c <= 10:\n",
    "    print(c)\n",
    "    c += 2\n",
    "    if c % 3 ==0:\n",
    "        c += 2\n",
    "    else:\n",
    "        c += 1\n",
    "    print(c)\n",
    "print('ho gya khtam')"
   ]
  },
  {
   "cell_type": "code",
   "execution_count": null,
   "metadata": {},
   "outputs": [],
   "source": [
    "c=1\n",
    "while c <= 10:\n",
    "    c += 1\n",
    "    if c % 2:\n",
    "        continue\n",
    "    print(c)\n",
    "else:\n",
    "    print('condition galt ho gyi hai')"
   ]
  },
  {
   "cell_type": "code",
   "execution_count": null,
   "metadata": {},
   "outputs": [],
   "source": [
    "c = 5\n",
    "while c >= 0:\n",
    "    c -= 1\n",
    "    if c ==2:\n",
    "        continue\n",
    "    print(c)\n",
    "else:\n",
    "    print('loop over now')"
   ]
  },
  {
   "cell_type": "code",
   "execution_count": null,
   "metadata": {},
   "outputs": [],
   "source": [
    "i = 0\n",
    "print('loops start from here')\n",
    "while i <= 10:\n",
    "    print('hello to the world of python',i)\n",
    "    i += 3\n",
    "else:\n",
    "    print('now i am done')"
   ]
  },
  {
   "cell_type": "code",
   "execution_count": null,
   "metadata": {},
   "outputs": [],
   "source": [
    "a = 5\n",
    "while a > 0:\n",
    "    a -= 1\n",
    "    if a==2:\n",
    "        break\n",
    "    print('salam rocky bhai',a)\n",
    "else:\n",
    "    print('mee aaunga kya')"
   ]
  },
  {
   "cell_type": "code",
   "execution_count": null,
   "metadata": {},
   "outputs": [],
   "source": [
    "c = 1\n",
    "while c <= 10:\n",
    "    print('*'*c,end='')\n",
    "    print('')\n",
    "    c +=1 "
   ]
  },
  {
   "cell_type": "markdown",
   "metadata": {},
   "source": [
    "# for looop in python"
   ]
  },
  {
   "cell_type": "code",
   "execution_count": null,
   "metadata": {},
   "outputs": [],
   "source": [
    "for var in range(10):\n",
    "    print(var)"
   ]
  },
  {
   "cell_type": "code",
   "execution_count": null,
   "metadata": {},
   "outputs": [],
   "source": [
    "for var in range(1,11):\n",
    "    print('hello world',var)"
   ]
  },
  {
   "cell_type": "code",
   "execution_count": null,
   "metadata": {},
   "outputs": [],
   "source": [
    "import random"
   ]
  },
  {
   "cell_type": "code",
   "execution_count": null,
   "metadata": {},
   "outputs": [],
   "source": [
    "l = []\n",
    "for var in range(1,101):\n",
    "    l.append(var)"
   ]
  },
  {
   "cell_type": "code",
   "execution_count": null,
   "metadata": {},
   "outputs": [],
   "source": [
    "print(l)"
   ]
  },
  {
   "cell_type": "code",
   "execution_count": null,
   "metadata": {},
   "outputs": [],
   "source": [
    "for var in 'python':\n",
    "    for tar in 'ajay':\n",
    "        print(var,tar,sep='==')"
   ]
  },
  {
   "cell_type": "code",
   "execution_count": null,
   "metadata": {},
   "outputs": [],
   "source": [
    "for var in 'python':\n",
    "    print(var)"
   ]
  },
  {
   "cell_type": "code",
   "execution_count": null,
   "metadata": {},
   "outputs": [],
   "source": [
    "for var in ['ajay','sachin','nikhil','rajesh','shubham']:\n",
    "    print(var,end=' ')"
   ]
  },
  {
   "cell_type": "code",
   "execution_count": null,
   "metadata": {},
   "outputs": [],
   "source": [
    "for r in (1,2,3,4,5,6,7):\n",
    "    print(r)"
   ]
  },
  {
   "cell_type": "code",
   "execution_count": null,
   "metadata": {},
   "outputs": [],
   "source": [
    "num = int(input('Enter the number for table : '))\n",
    "for var in range(1,11):\n",
    "    print(f'{num} * {var} = {var*num}')"
   ]
  },
  {
   "cell_type": "code",
   "execution_count": null,
   "metadata": {},
   "outputs": [],
   "source": [
    "num = int(input('enter a number for tablee : '))\n",
    "c = 1\n",
    "while c <= 10:\n",
    "    print('{} * {} ={}'.format(num,c,num*c))\n",
    "    c += 1"
   ]
  },
  {
   "cell_type": "code",
   "execution_count": null,
   "metadata": {},
   "outputs": [],
   "source": [
    "while True:\n",
    "    num = int(input('enter the number for square :  '))\n",
    "    print('the square of given number is : ',num**2)\n",
    "    if  input('preesss any key to continue : '):\n",
    "        continue\n",
    "    else:\n",
    "        print('i am useless now')\n",
    "        break"
   ]
  },
  {
   "cell_type": "code",
   "execution_count": null,
   "metadata": {},
   "outputs": [],
   "source": [
    "for var in range(5,51,5):\n",
    "    print(var)"
   ]
  },
  {
   "cell_type": "code",
   "execution_count": 2,
   "metadata": {},
   "outputs": [],
   "source": [
    "di = {\n",
    "    'name':'rajesh',\n",
    "    'prof':'grras',\n",
    "    'work':'management',\n",
    "    'class':'high'\n",
    "}"
   ]
  },
  {
   "cell_type": "code",
   "execution_count": 3,
   "metadata": {},
   "outputs": [
    {
     "name": "stdout",
     "output_type": "stream",
     "text": [
      "name\n",
      "prof\n",
      "work\n",
      "class\n"
     ]
    }
   ],
   "source": [
    "for var in di:\n",
    "    print(var)"
   ]
  },
  {
   "cell_type": "code",
   "execution_count": null,
   "metadata": {},
   "outputs": [],
   "source": [
    "for var,tar in di.items():\n",
    "    print(var,tar,sep='===')"
   ]
  },
  {
   "cell_type": "code",
   "execution_count": null,
   "metadata": {},
   "outputs": [],
   "source": [
    "for var in range(1,11):\n",
    "    for tar in range(1,var+1):\n",
    "        print(tar,end='')\n",
    "    print()"
   ]
  },
  {
   "cell_type": "code",
   "execution_count": null,
   "metadata": {},
   "outputs": [],
   "source": [
    "c = 1\n",
    "for var in range(65,91):\n",
    "    print(\"{}\".format(chr(var)*c))\n",
    "    c += 1"
   ]
  },
  {
   "cell_type": "code",
   "execution_count": null,
   "metadata": {},
   "outputs": [],
   "source": [
    "for var in range(1,11):\n",
    "    print('*'*(11-var)+'  '*(var-1)+'*'*(11-var))\n",
    "for tar in range(1,11):\n",
    "    print('*'*(tar)+'  '*(11-tar-1)+'*'*(tar))"
   ]
  },
  {
   "cell_type": "code",
   "execution_count": null,
   "metadata": {},
   "outputs": [],
   "source": [
    "c = 65\n",
    "for var in range(1,9):\n",
    "    for tar in range(1,var):\n",
    "        print(chr(c),end='')\n",
    "        if c == 90:\n",
    "            break\n",
    "        c += 1\n",
    "        \n",
    "    print()"
   ]
  },
  {
   "cell_type": "code",
   "execution_count": null,
   "metadata": {},
   "outputs": [],
   "source": [
    "for var in range(1,11):\n",
    "    for tar in range(1,var+1):\n",
    "        print(var,end='')\n",
    "        c += 1\n",
    "    print()"
   ]
  },
  {
   "cell_type": "code",
   "execution_count": null,
   "metadata": {},
   "outputs": [],
   "source": [
    "for var in range(65,91):\n",
    "    print(chr(var))"
   ]
  },
  {
   "cell_type": "code",
   "execution_count": null,
   "metadata": {},
   "outputs": [],
   "source": [
    "for var in range(1,11):\n",
    "    print(' '*(11-var)+\"* \"*var)\n",
    "for var in range(1,11):\n",
    "    print(' '*var+'* '*(11-var))"
   ]
  },
  {
   "cell_type": "code",
   "execution_count": null,
   "metadata": {},
   "outputs": [],
   "source": [
    "for var in range(1,11):\n",
    "    print('*'*var)"
   ]
  },
  {
   "cell_type": "code",
   "execution_count": null,
   "metadata": {},
   "outputs": [],
   "source": [
    "for var in range(1,11):\n",
    "    print(\"*\"*(11-var))"
   ]
  },
  {
   "cell_type": "code",
   "execution_count": null,
   "metadata": {
    "scrolled": true
   },
   "outputs": [],
   "source": [
    "for var in range(1,11):\n",
    "    print(' '*(11-var)+'*'*var)"
   ]
  },
  {
   "cell_type": "code",
   "execution_count": null,
   "metadata": {},
   "outputs": [],
   "source": [
    "for var in range(1,11):\n",
    "    print(' '*var+'*'*(11-var))"
   ]
  },
  {
   "cell_type": "code",
   "execution_count": null,
   "metadata": {},
   "outputs": [],
   "source": [
    "for var in range(1,11):\n",
    "    print('*'*(11-var)+'  '*(var-1)+'*'*(11-var))\n",
    "for tar in range(1,11):\n",
    "    print('*'*(tar)+'  '*(11-tar-1)+'*'*(tar))"
   ]
  },
  {
   "cell_type": "code",
   "execution_count": null,
   "metadata": {},
   "outputs": [],
   "source": [
    "c = 1\n",
    "while c <= 10:\n",
    "    c += 1\n",
    "    print(c)\n",
    "    if c % 2 :\n",
    "         c += 2\n",
    "    else:\n",
    "        c += 1\n",
    "    print(c)"
   ]
  },
  {
   "cell_type": "code",
   "execution_count": null,
   "metadata": {},
   "outputs": [],
   "source": []
  }
 ],
 "metadata": {
  "kernelspec": {
   "display_name": "Python 3",
   "language": "python",
   "name": "python3"
  },
  "language_info": {
   "codemirror_mode": {
    "name": "ipython",
    "version": 3
   },
   "file_extension": ".py",
   "mimetype": "text/x-python",
   "name": "python",
   "nbconvert_exporter": "python",
   "pygments_lexer": "ipython3",
   "version": "3.7.6"
  }
 },
 "nbformat": 4,
 "nbformat_minor": 2
}
