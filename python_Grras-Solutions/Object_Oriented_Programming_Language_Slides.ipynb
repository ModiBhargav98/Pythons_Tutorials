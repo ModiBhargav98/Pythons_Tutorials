{
 "cells": [
  {
   "cell_type": "markdown",
   "metadata": {
    "slideshow": {
     "slide_type": "slide"
    }
   },
   "source": [
    "<h1 style='color:#123456'>Object Oriented Programming Features</h1>\n"
   ]
  },
  {
   "cell_type": "markdown",
   "metadata": {
    "slideshow": {
     "slide_type": "fragment"
    }
   },
   "source": [
    "\n",
    "<li style='color:#123456'>Encapsulation</li>\n"
   ]
  },
  {
   "cell_type": "markdown",
   "metadata": {
    "slideshow": {
     "slide_type": "fragment"
    }
   },
   "source": [
    "<li style='color:#123456'>Abstraction</li>\n"
   ]
  },
  {
   "cell_type": "markdown",
   "metadata": {
    "slideshow": {
     "slide_type": "fragment"
    }
   },
   "source": [
    "<li style='color:#123456'>Data Hiding</li>\n"
   ]
  },
  {
   "cell_type": "markdown",
   "metadata": {
    "slideshow": {
     "slide_type": "fragment"
    }
   },
   "source": [
    "<li style='color:#123456'>Dynamic Binding</li>\n"
   ]
  },
  {
   "cell_type": "markdown",
   "metadata": {
    "slideshow": {
     "slide_type": "fragment"
    }
   },
   "source": [
    "<li style='color:#123456'>Inheritance</li>\n"
   ]
  },
  {
   "cell_type": "markdown",
   "metadata": {
    "slideshow": {
     "slide_type": "fragment"
    }
   },
   "source": [
    "<li style='color:#123456'>Polymorphism (Over Riding) </li>\n"
   ]
  },
  {
   "cell_type": "markdown",
   "metadata": {
    "slideshow": {
     "slide_type": "fragment"
    }
   },
   "source": [
    "<li style='color:#123456'>Class</li>\n"
   ]
  },
  {
   "cell_type": "markdown",
   "metadata": {
    "slideshow": {
     "slide_type": "fragment"
    }
   },
   "source": [
    "<li style='color:#123456'>Object</li>"
   ]
  },
  {
   "cell_type": "markdown",
   "metadata": {
    "slideshow": {
     "slide_type": "slide"
    }
   },
   "source": [
    "<h1 style='color:red'>Encapsulation</h1>\n",
    "<p style='color:#453212'>Encapsulation is process by which we can bind many attributes and methods all together with single known as class.</p>\n"
   ]
  },
  {
   "cell_type": "markdown",
   "metadata": {
    "slideshow": {
     "slide_type": "fragment"
    }
   },
   "source": [
    "<h1 style='color:red'>Abstraction</h1>\n",
    "<p style='color:blue'>Abstraction is process by which we can only show assential details without include background details.</p>\n"
   ]
  },
  {
   "cell_type": "markdown",
   "metadata": {
    "slideshow": {
     "slide_type": "fragment"
    }
   },
   "source": [
    "<h1 style='color:red'>Data Hiding</h1>\n",
    "<p style='color:#123456'>Hiding some information inside class defination</p>"
   ]
  },
  {
   "cell_type": "markdown",
   "metadata": {
    "slideshow": {
     "slide_type": "slide"
    }
   },
   "source": [
    "<h1 style='color:red'>Defining a Class</h1>"
   ]
  },
  {
   "cell_type": "code",
   "execution_count": 1,
   "metadata": {
    "slideshow": {
     "slide_type": "fragment"
    }
   },
   "outputs": [],
   "source": [
    "class A: #defining Class\n",
    "    pass #attribute that does nothing\n"
   ]
  },
  {
   "cell_type": "code",
   "execution_count": 3,
   "metadata": {
    "slideshow": {
     "slide_type": "slide"
    }
   },
   "outputs": [
    {
     "name": "stdout",
     "output_type": "stream",
     "text": [
      "['ArithmeticError', 'AssertionError', 'AttributeError', 'BaseException', 'BlockingIOError', 'BrokenPipeError', 'BufferError', 'BytesWarning', 'ChildProcessError', 'ConnectionAbortedError', 'ConnectionError', 'ConnectionRefusedError', 'ConnectionResetError', 'DeprecationWarning', 'EOFError', 'Ellipsis', 'EnvironmentError', 'Exception', 'False', 'FileExistsError', 'FileNotFoundError', 'FloatingPointError', 'FutureWarning', 'GeneratorExit', 'IOError', 'ImportError', 'ImportWarning', 'IndentationError', 'IndexError', 'InterruptedError', 'IsADirectoryError', 'KeyError', 'KeyboardInterrupt', 'LookupError', 'MemoryError', 'ModuleNotFoundError', 'NameError', 'None', 'NotADirectoryError', 'NotImplemented', 'NotImplementedError', 'OSError', 'OverflowError', 'PendingDeprecationWarning', 'PermissionError', 'ProcessLookupError', 'RecursionError', 'ReferenceError', 'ResourceWarning', 'RuntimeError', 'RuntimeWarning', 'StopAsyncIteration', 'StopIteration', 'SyntaxError', 'SyntaxWarning', 'SystemError', 'SystemExit', 'TabError', 'TimeoutError', 'True', 'TypeError', 'UnboundLocalError', 'UnicodeDecodeError', 'UnicodeEncodeError', 'UnicodeError', 'UnicodeTranslateError', 'UnicodeWarning', 'UserWarning', 'ValueError', 'Warning', 'WindowsError', 'ZeroDivisionError', '__IPYTHON__', '__build_class__', '__debug__', '__doc__', '__import__', '__loader__', '__name__', '__package__', '__spec__', 'abs', 'all', 'any', 'ascii', 'bin', 'bool', 'bytearray', 'bytes', 'callable', 'chr', 'classmethod', 'compile', 'complex', 'copyright', 'credits', 'delattr', 'dict', 'dir', 'display', 'divmod', 'enumerate', 'eval', 'exec', 'filter', 'float', 'format', 'frozenset', 'get_ipython', 'getattr', 'globals', 'hasattr', 'hash', 'help', 'hex', 'id', 'input', 'int', 'isinstance', 'issubclass', 'iter', 'len', 'license', 'list', 'locals', 'map', 'max', 'memoryview', 'min', 'next', 'object', 'oct', 'open', 'ord', 'pow', 'print', 'property', 'range', 'repr', 'reversed', 'round', 'set', 'setattr', 'slice', 'sorted', 'staticmethod', 'str', 'sum', 'super', 'tuple', 'type', 'vars', 'zip']\n"
     ]
    }
   ],
   "source": [
    "import builtins\n",
    "print(dir(builtins))"
   ]
  },
  {
   "cell_type": "markdown",
   "metadata": {
    "slideshow": {
     "slide_type": "slide"
    }
   },
   "source": [
    "<h1 style='color:#123456'>More Classes</h1>"
   ]
  },
  {
   "cell_type": "code",
   "execution_count": 5,
   "metadata": {
    "slideshow": {
     "slide_type": "slide"
    }
   },
   "outputs": [
    {
     "name": "stdout",
     "output_type": "stream",
     "text": [
      "This doc-string of A if you are a exprecienced program. \n",
      "    than you have to write it.\n",
      "Hi I am object of Class A\n",
      "Hi I am object of Class A\n"
     ]
    },
    {
     "data": {
      "text/plain": [
       "'Bhai Bhai'"
      ]
     },
     "execution_count": 5,
     "metadata": {},
     "output_type": "execute_result"
    }
   ],
   "source": [
    "class A:\n",
    "    \"\"\"This doc-string of A if you are a exprecienced program. \n",
    "    than you have to write it.\"\"\"\n",
    "    def __str__(self): #self is the scope of every object where they stores their data\n",
    "        return \"Hi I am object of Class A\" #__str__ is responsible for what should object will print\n",
    "    def __add__(self,other): #operator overloading this function decide the behaviour of + operator\n",
    "        return \"Bhai Bhai\"\n",
    "one = A()\n",
    "print(one.__doc__) #printing doc-string \n",
    "print(one)\n",
    "two = A()\n",
    "print(two)\n",
    "one + two #calling magic method __add__ using object of class A"
   ]
  },
  {
   "cell_type": "markdown",
   "metadata": {
    "slideshow": {
     "slide_type": "slide"
    }
   },
   "source": [
    "<h1 style='color:red'>Inheritance</h1>\n"
   ]
  },
  {
   "cell_type": "markdown",
   "metadata": {
    "slideshow": {
     "slide_type": "fragment"
    }
   },
   "source": [
    "<p style='color:#123456'>Inheritance is a powerful feature in object oriented programming. \n",
    "It refers to defining a new class with little or no modification to an existing class.\n",
    "The new class is called derived (or child) class \n",
    "and the one from which it inherits is called the base (or parent) class.</p><p style='color:#123456'>Inheritance is a powerful feature in object oriented programming. \n",
    "It refers to defining a new class with little or no modification to an existing class.\n",
    "The new class is called derived (or child) class \n",
    "and the one from which it inherits is called the base (or parent) class.</p>\n"
   ]
  },
  {
   "cell_type": "code",
   "execution_count": 6,
   "metadata": {
    "slideshow": {
     "slide_type": "slide"
    }
   },
   "outputs": [
    {
     "name": "stdout",
     "output_type": "stream",
     "text": [
      "Hi I am A classs\n",
      "Hello world this is B \n",
      "ha ha ha hi\n"
     ]
    }
   ],
   "source": [
    "class A:\n",
    "    def show(self): #method of Class A\n",
    "        print(\"Hi I am A classs\")\n",
    "    def hi(self): #method of class A\n",
    "        print(\"HI\")\n",
    "class B: \n",
    "    def hello(self): #method of class B\n",
    "        print(\"Hello world this is B \")\n",
    "    def hi(self): #method of class B\n",
    "        print(\"ha ha ha hi\")\n",
    "class C(B,A): # will follow mro rule --> method resolution order\n",
    "    pass\n",
    "one = C()\n",
    "one.show()\n",
    "one.hello()\n",
    "one.hi() #will call class B's hi method because of mro"
   ]
  },
  {
   "cell_type": "markdown",
   "metadata": {
    "slideshow": {
     "slide_type": "slide"
    }
   },
   "source": [
    "<h1 style='color:red'>Name Space Revision</h1>"
   ]
  },
  {
   "cell_type": "code",
   "execution_count": 7,
   "metadata": {
    "slideshow": {
     "slide_type": "fragment"
    }
   },
   "outputs": [
    {
     "name": "stdout",
     "output_type": "stream",
     "text": [
      "6\n",
      "6\n",
      "5\n",
      "6\n"
     ]
    }
   ],
   "source": [
    "\n",
    "x = 5 #global\n",
    "y = 6 #global\n",
    "def main(p,q):\n",
    "    #print(x) #global\n",
    "    #print(y)\n",
    "    x = p #local\n",
    "    y = q\n",
    "    print(x)\n",
    "    print(y)\n",
    "main(6,6)\n",
    "print(x)\n",
    "print(y)"
   ]
  },
  {
   "cell_type": "markdown",
   "metadata": {
    "slideshow": {
     "slide_type": "slide"
    }
   },
   "source": [
    "<h1 style='color:red'>What is method ? </h1>"
   ]
  },
  {
   "cell_type": "markdown",
   "metadata": {
    "slideshow": {
     "slide_type": "fragment"
    }
   },
   "source": [
    "<p style='color:blue'>Any function inside a class is known as method. Same as any operator or variable inside the class is known as attributes</p>"
   ]
  },
  {
   "cell_type": "code",
   "execution_count": 8,
   "metadata": {
    "slideshow": {
     "slide_type": "fragment"
    }
   },
   "outputs": [
    {
     "name": "stdout",
     "output_type": "stream",
     "text": [
      "I am Person \n"
     ]
    }
   ],
   "source": [
    "class Person:\n",
    "    def show(self,): #just a method\n",
    "        print(\"I am Person \") #boring printing\n",
    "k = Person()\n",
    "k.show() #calling method"
   ]
  },
  {
   "cell_type": "code",
   "execution_count": 9,
   "metadata": {
    "slideshow": {
     "slide_type": "slide"
    }
   },
   "outputs": [
    {
     "name": "stdout",
     "output_type": "stream",
     "text": [
      "My Name is : Person1\n",
      "My Name is : Person2\n",
      "<__main__.Person object at 0x0000024254E82470>\n"
     ]
    }
   ],
   "source": [
    "class Person:\n",
    "    def set_name(self,name): #method to set some values to objects self scope\n",
    "        self.name = name\n",
    "    def get_name(self): # method to print name\n",
    "        print(\"My Name is : {}\".format(self.name))\n",
    "p1 = Person()\n",
    "p2 = Person() #instatiation\n",
    "p1.set_name('Person1')\n",
    "p2.set_name('Person2') #setting name\n",
    "p1.get_name() #getting name\n",
    "p2.get_name()\n",
    "print(p1) #just printing objects default implementation"
   ]
  },
  {
   "cell_type": "markdown",
   "metadata": {
    "slideshow": {
     "slide_type": "slide"
    }
   },
   "source": [
    "<h3 style='color:#123456'>More and More Classes</h3>"
   ]
  },
  {
   "cell_type": "code",
   "execution_count": 10,
   "metadata": {
    "slideshow": {
     "slide_type": "fragment"
    }
   },
   "outputs": [
    {
     "name": "stdout",
     "output_type": "stream",
     "text": [
      "Name of the Object :  Person1\n",
      "Country of the Object :  US\n",
      "Name of the Object :  Person2\n",
      "Country of the Object :  Africa\n",
      "<__main__.Person object at 0x0000024254E82898>\n",
      "<__main__.Person object at 0x0000024254E82828>\n"
     ]
    }
   ],
   "source": [
    "class Person:\n",
    "    def __init__(self,name,country): #constructor --> creator of each object \n",
    "        \"\"\"__new__() is the constructor as it allocates memory for each object called self, where each object put it's data.\n",
    "        __init__() is known as  initializer, it's responsibility to initilize the initial values into self of an object.\"\"\"\n",
    "        self.name = name # self is a dictionary in which each objects has it's data\n",
    "        self.country = country #self created whenever an object is created and destroyed whenever an object is distroyed\n",
    "    def show(self):\n",
    "        print(\"Name of the Object : \",self.name)\n",
    "        print(\"Country of the Object : \",self.country)\n",
    "p1 = Person('Person1','US')\n",
    "p2 = Person('Person2','Africa') \n",
    "p1.show()\n",
    "p2.show() \n",
    "print(p1)\n",
    "print(p2)"
   ]
  },
  {
   "cell_type": "markdown",
   "metadata": {
    "slideshow": {
     "slide_type": "slide"
    }
   },
   "source": [
    "<h1 style='color:#123456'>printing an object as Meaningfull</h1>"
   ]
  },
  {
   "cell_type": "code",
   "execution_count": 11,
   "metadata": {
    "slideshow": {
     "slide_type": "fragment"
    }
   },
   "outputs": [
    {
     "name": "stdout",
     "output_type": "stream",
     "text": [
      "Name of the Object : john\n",
      "Color of the Object : fair\n",
      "Country of the Object : Australia\n",
      "Name of the Object : john\n",
      "Color of the Object : normal\n",
      "Country of the Object : India\n",
      "<__main__.Person object at 0x0000024254E82C18>\n"
     ]
    }
   ],
   "source": [
    "class Person:\n",
    "    def __init__(self,name,color,country): #constructer\n",
    "        self.name = name # initilizing values into objects self\n",
    "        self.color = color\n",
    "        self.country = country\n",
    "    def __str__(self):  #representation of an object\n",
    "        s = \"\"\"Name of the Object : {}\\nColor of the Object : {}\\nCountry of the Object : {}\"\"\".format(self.name,self.color,self.country)\n",
    "        return s  #this will be printed whenver an object is printed\n",
    "john = Person('john','fair','Australia')\n",
    "natasha = Person('john','normal','India')\n",
    "print(john)\n",
    "print(natasha)#how to change representation of an object so repr() also return something meaning full\n",
    "print(repr(natasha)) #every class has method as __repr__ change it"
   ]
  },
  {
   "cell_type": "markdown",
   "metadata": {
    "slideshow": {
     "slide_type": "slide"
    }
   },
   "source": [
    "<h1 style='color:red'>Ok!! can i call a method without any object ? </h1>"
   ]
  },
  {
   "cell_type": "markdown",
   "metadata": {
    "slideshow": {
     "slide_type": "slide"
    }
   },
   "source": [
    "<h1 style='color:#123456'>Name Space in OOPS</h1>"
   ]
  },
  {
   "cell_type": "code",
   "execution_count": 17,
   "metadata": {
    "slideshow": {
     "slide_type": "fragment"
    }
   },
   "outputs": [
    {
     "name": "stdout",
     "output_type": "stream",
     "text": [
      "Hi  I am A\n",
      "\n",
      "Data inside a Class Dictionary \n",
      "{'__module__': '__main__', 'show': <function A.show at 0x0000024254E4E7B8>, '__dict__': <attribute '__dict__' of 'A' objects>, '__weakref__': <attribute '__weakref__' of 'A' objects>, '__doc__': None}\n",
      "\n",
      "Data inside a Object Dictionary \n",
      "{}\n"
     ]
    }
   ],
   "source": [
    "class A:\n",
    "    def show(self):\n",
    "        print(\"Hi  I am A\")\n",
    "one = A()\n",
    "one.show()\n",
    "print(\"\\nData inside a Class Dictionary \")\n",
    "print(A.__dict__) # data of class or we can say shared data (shared data)\n",
    "print(\"\\nData inside a Object Dictionary \")\n",
    "print(one.__dict__) #data of Object or we can say personal data (self of an object)"
   ]
  },
  {
   "cell_type": "markdown",
   "metadata": {
    "slideshow": {
     "slide_type": "slide"
    }
   },
   "source": [
    "<h3 style='color:#123456'>Let's add something into objects</h3>"
   ]
  },
  {
   "cell_type": "code",
   "execution_count": 18,
   "metadata": {
    "slideshow": {
     "slide_type": "fragment"
    }
   },
   "outputs": [
    {
     "name": "stdout",
     "output_type": "stream",
     "text": [
      "Before data in Class\n",
      "{'__module__': '__main__', 'show': <function A.show at 0x0000024254E7D7B8>, '__dict__': <attribute '__dict__' of 'A' objects>, '__weakref__': <attribute '__weakref__' of 'A' objects>, '__doc__': None}\n",
      "\n",
      "Before data in object one\n",
      "{}\n",
      "\n",
      "After adding data dictionary (self) of object one\n",
      "{'name': 'sachin'}\n",
      "\n",
      "Data of object two\n",
      "{'name': 'rajat'}\n"
     ]
    }
   ],
   "source": [
    "class A(object):\n",
    "    def show(self,arg):\n",
    "        self.name = arg\n",
    "one = A()\n",
    "print(\"Before data in Class\") ; print(A.__dict__)\n",
    "print(\"\\nBefore data in object one\") ; print(one.__dict__)\n",
    "one.show('sachin')\n",
    "print(\"\\nAfter adding data dictionary (self) of object one\")\n",
    "print(one.__dict__)\n",
    "two = A() ; two.show('rajat')\n",
    "print(\"\\nData of object two\")\n",
    "print(two.__dict__)"
   ]
  },
  {
   "cell_type": "markdown",
   "metadata": {
    "slideshow": {
     "slide_type": "slide"
    }
   },
   "source": [
    "<h1 style='color:#123456'>Let's See Overriding Now</h1>"
   ]
  },
  {
   "cell_type": "markdown",
   "metadata": {
    "slideshow": {
     "slide_type": "fragment"
    }
   },
   "source": [
    "<p style='color:blue'>Overriding means giving a new defination to old vintage methods of parent class.</p>"
   ]
  },
  {
   "cell_type": "code",
   "execution_count": 20,
   "metadata": {
    "slideshow": {
     "slide_type": "fragment"
    }
   },
   "outputs": [
    {
     "name": "stdout",
     "output_type": "stream",
     "text": [
      "This is called over riding\n"
     ]
    }
   ],
   "source": [
    "class A():\n",
    "    def show(self):\n",
    "        print(\"A is Showing his feature\")\n",
    "class B(A):\n",
    "    def show(self):\n",
    "        #super().show()\n",
    "        print(\"This is called over riding\")\n",
    "c = B()\n",
    "c.show()\n"
   ]
  },
  {
   "cell_type": "markdown",
   "metadata": {
    "slideshow": {
     "slide_type": "slide"
    }
   },
   "source": [
    "<h1 style='color:green'>Let's do something different</h1>"
   ]
  },
  {
   "cell_type": "markdown",
   "metadata": {
    "slideshow": {
     "slide_type": "fragment"
    }
   },
   "source": [
    "<h3 style='color:#00aa55'>Let's write python objects to a file </h3>"
   ]
  },
  {
   "cell_type": "markdown",
   "metadata": {
    "slideshow": {
     "slide_type": "fragment"
    }
   },
   "source": [
    "<h3 style='color:#123456'>Let's Prepare the data object</h3>"
   ]
  },
  {
   "cell_type": "code",
   "execution_count": 21,
   "metadata": {
    "slideshow": {
     "slide_type": "fragment"
    }
   },
   "outputs": [],
   "source": [
    "\n",
    "data =  {\n",
    "    'user' : ['ram','hari','john','natasha'],\n",
    "    'acc' : [ 1001, 1002, 1003, 1004 ],\n",
    "    'bal' : [ 10000.0,20000.0,15000.0,25000.0],\n",
    "    'password' : [ 'hari@mohan','redhat@123','good@bad','mty123124']\n",
    "}\n"
   ]
  },
  {
   "cell_type": "markdown",
   "metadata": {
    "slideshow": {
     "slide_type": "slide"
    }
   },
   "source": [
    "<h1 style='color:#123456'>JSON --> Java Script Object Notation Language</h1>"
   ]
  },
  {
   "cell_type": "markdown",
   "metadata": {
    "slideshow": {
     "slide_type": "fragment"
    }
   },
   "source": [
    "<h2 style='color:#123435'>JSON and PICKLE is used to write python objects into files and read python objects from files</h2>"
   ]
  },
  {
   "cell_type": "code",
   "execution_count": 22,
   "metadata": {
    "slideshow": {
     "slide_type": "fragment"
    }
   },
   "outputs": [],
   "source": [
    "import json #importing json from standard library of python\n",
    "f = open('bank.db','w') #opening a file for writing data\n",
    "#json.dump is used to dump data into file pointer\n",
    "json.dump(data,f) #writing dictionary object into file using json \n",
    "f.close() #closing file "
   ]
  },
  {
   "cell_type": "markdown",
   "metadata": {
    "slideshow": {
     "slide_type": "slide"
    }
   },
   "source": [
    "<h1 style='color:#123456'>Let's Read Python Objects from a file Using JSON </h1>"
   ]
  },
  {
   "cell_type": "code",
   "execution_count": 23,
   "metadata": {
    "slideshow": {
     "slide_type": "fragment"
    }
   },
   "outputs": [
    {
     "name": "stdout",
     "output_type": "stream",
     "text": [
      "Without Json\n",
      "\n",
      "'{\"user\": [\"ram\", \"hari\", \"john\", \"natasha\"], \"acc\": [1001, 1002, 1003, 1004], \"bal\": [10000.0, 20000.0, 15000.0, 25000.0], \"password\": [\"hari@mohan\", \"redhat@123\", \"good@bad\", \"mty123124\"]}'\n",
      "With Json\n",
      "\n",
      "{'user': ['ram', 'hari', 'john', 'natasha'], 'acc': [1001, 1002, 1003, 1004], 'bal': [10000.0, 20000.0, 15000.0, 25000.0], 'password': ['hari@mohan', 'redhat@123', 'good@bad', 'mty123124']}\n",
      "\n",
      "type of data extracted using json =  <class 'dict'>\n",
      "\n",
      "['ram', 'hari', 'john', 'natasha']\n"
     ]
    }
   ],
   "source": [
    "print(\"Without Json\\n\")\n",
    "f= open('bank.db') #opening file for reading data\n",
    "d = f.read() #reading data traditional way\n",
    "f.close() #closing File\n",
    "print(repr(d)) #printing Data  \n",
    "print(\"With Json\\n\")\n",
    "f = open('bank.db')\n",
    "e = json.load(f) #reading object instead of string using json\n",
    "f.close()\n",
    "print(repr(e)) #let's print the object\n",
    "print(\"\\ntype of data extracted using json = \",type(e)) #you can see we have sucessfully extracted dictionary from a file\n",
    "print()\n",
    "print(e['user']) #it's working"
   ]
  },
  {
   "cell_type": "markdown",
   "metadata": {
    "slideshow": {
     "slide_type": "slide"
    }
   },
   "source": [
    "<h1 style='color:#123456'>Share Memory Concept</h1>"
   ]
  },
  {
   "cell_type": "markdown",
   "metadata": {
    "slideshow": {
     "slide_type": "fragment"
    }
   },
   "source": [
    "<p style='color:#123456'>class variable are shared variable, can be used by any object simultaneously.Every Object has it's private variable in it's self</p>"
   ]
  },
  {
   "cell_type": "code",
   "execution_count": 24,
   "metadata": {
    "slideshow": {
     "slide_type": "slide"
    }
   },
   "outputs": [],
   "source": [
    "class Grras:\n",
    "    \"\"\"Grras -> show, update  functions to display and update\n",
    "    a trainers profile.\"\"\"\n",
    "    msg = \"There is no update for new exams\" #shared msg class varible\n",
    "    def __init__(self,name,subject):\n",
    "        self.name = name #object variable\n",
    "        self.subject = subject\n",
    "    def show(self):\n",
    "        print(\"Name : \",self.name)\n",
    "        print(\"Subject : \",self.subject)\n",
    "    def update(self,n,s):\n",
    "        self.name = n\n",
    "        self.subject = s\n",
    "    def print_msg(self):\n",
    "        print(\"Grras Broadcast : \",Grras.msg)\n",
    "    def send_msg(self,m):\n",
    "        Grras.msg = m + '-->'+self.name\n",
    "    def __repr__(self):\n",
    "        return self.name\n"
   ]
  },
  {
   "cell_type": "markdown",
   "metadata": {
    "slideshow": {
     "slide_type": "slide"
    }
   },
   "source": [
    "<h1 style='color:#123456'>Message Passing</h1>"
   ]
  },
  {
   "cell_type": "code",
   "execution_count": 25,
   "metadata": {
    "slideshow": {
     "slide_type": "fragment"
    }
   },
   "outputs": [
    {
     "name": "stdout",
     "output_type": "stream",
     "text": [
      "Sachin Yadav\n",
      "Rajat Goyal\n",
      "Name :  Sachin Yadav\n",
      "Subject :  Basic Python\n",
      "Name :  Rajat Goyal\n",
      "Subject :  Linux\n",
      "Grras Broadcast :  There is no update for new exams\n",
      "Grras Broadcast :  There is no update for new exams\n",
      "Grras Broadcast :  I will not come tomorrow so manage accordingly.-->Rajat Goyal\n",
      "Grras Broadcast :  Ok i will manage your class, anything else ? -->Sachin Yadav\n"
     ]
    }
   ],
   "source": [
    "sachin = Grras('Sachin Yadav','Basic Python')\n",
    "rajat = Grras('Rajat Goyal','Linux')\n",
    "print(sachin)\n",
    "print(rajat)\n",
    "sachin.show()\n",
    "rajat.show()\n",
    "sachin.print_msg()\n",
    "rajat.print_msg()\n",
    "rajat.send_msg(\"I will not come tomorrow so manage accordingly.\")\n",
    "sachin.print_msg()\n",
    "sachin.send_msg('Ok i will manage your class, anything else ? ')\n",
    "rajat.print_msg()"
   ]
  },
  {
   "cell_type": "markdown",
   "metadata": {
    "slideshow": {
     "slide_type": "slide"
    }
   },
   "source": [
    "<h1 style='color:red'>Getter and Setter methods of class</h1>"
   ]
  },
  {
   "cell_type": "code",
   "execution_count": 29,
   "metadata": {
    "slideshow": {
     "slide_type": "fragment"
    }
   },
   "outputs": [
    {
     "name": "stdout",
     "output_type": "stream",
     "text": [
      "['__class__', '__delattr__', '__dict__', '__dir__', '__doc__', '__eq__', '__format__', '__ge__', '__getattribute__', '__gt__', '__hash__', '__init__', '__init_subclass__', '__le__', '__lt__', '__module__', '__ne__', '__new__', '__reduce__', '__reduce_ex__', '__repr__', '__setattr__', '__sizeof__', '__str__', '__subclasshook__', '__weakref__', 'show', 'update']\n",
      "True\n",
      "True\n"
     ]
    }
   ],
   "source": [
    "print(dir(Result))\n",
    "print(isinstance([1,2,3],list))\n",
    "print(isinstance(x,Result))"
   ]
  }
 ],
 "metadata": {
  "celltoolbar": "Slideshow",
  "kernelspec": {
   "display_name": "Python 3",
   "language": "python",
   "name": "python3"
  },
  "language_info": {
   "codemirror_mode": {
    "name": "ipython",
    "version": 3
   },
   "file_extension": ".py",
   "mimetype": "text/x-python",
   "name": "python",
   "nbconvert_exporter": "python",
   "pygments_lexer": "ipython3",
   "version": "3.7.6"
  }
 },
 "nbformat": 4,
 "nbformat_minor": 2
}
