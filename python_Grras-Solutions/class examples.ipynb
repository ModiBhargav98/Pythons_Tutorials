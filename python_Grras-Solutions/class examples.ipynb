{
 "cells": [
  {
   "cell_type": "code",
   "execution_count": 1,
   "metadata": {},
   "outputs": [],
   "source": [
    "class Area:\n",
    "    def __init__(self,*args):\n",
    "        self.sides = args\n",
    "    def __str__(self):\n",
    "        if len(self.sides) == 1 : \n",
    "            name = 'Circle'\n",
    "            radias = self.sides[0]\n",
    "            area = pi*radias*radias\n",
    "            cir = 2*pi*radias\n",
    "        elif len(self.sides) == 2 : \n",
    "            x,y = self.sides\n",
    "            if x == y : \n",
    "                name = 'Squre'\n",
    "            else : \n",
    "                name = 'Rectangle'\n",
    "            area = x*y\n",
    "            cir = 2*(x+y)\n",
    "        elif len(self.sides) == 3 : \n",
    "            x,y,z = self.sides\n",
    "            s = (x+y+z)/2\n",
    "            area = sqrt(s*(s*x)*(s*y)*(s*z))\n",
    "            cir = x + y + z\n",
    "            name = 'Triangle'\n",
    "        else : \n",
    "            return \"\\t\\tInvalid Choice of Arguments\"\n",
    "        result = \"\"\"You are dealing with {0}\\nArea of {0} is {1}\\nCircumstance of {0} is {2}\"\"\".format(name,area,cir)\n",
    "        return result\n",
    "    def __repr__(self):\n",
    "        if len(self.sides) == 1 : \n",
    "            name = 'Circle'\n",
    "            radias = self.sides[0]\n",
    "            area = pi*radias*radias\n",
    "            cir = 2*pi*radias\n",
    "        elif len(self.sides) == 2 : \n",
    "            x,y = self.sides\n",
    "            if x == y : \n",
    "                name = 'Squre'\n",
    "            else : \n",
    "                name = 'Rectangle'\n",
    "            area = x*y\n",
    "            cir = 2*(x+y)\n",
    "        elif len(self.sides) == 3 : \n",
    "            x,y,z = self.sides\n",
    "            s = (x+y+z)/2\n",
    "            area = sqrt(s*(s*x)*(s*y)*(s*z))\n",
    "            cir = x + y + z\n",
    "            name = 'Triange'\n",
    "        else : \n",
    "            return \"Invalid Choice of Arguments\"\n",
    "        result = \"\"\"You are dealing with {0} Area of {0} is {1} Circumstance of {0} is {2}\"\"\".format(name,area,cir)\n",
    "        return result"
   ]
  },
  {
   "cell_type": "code",
   "execution_count": 2,
   "metadata": {},
   "outputs": [
    {
     "name": "stdout",
     "output_type": "stream",
     "text": [
      "You are dealing with Circle\n",
      "Area of Circle is 28.274333882308138\n",
      "Circumstance of Circle is 18.84955592153876\n",
      "You are dealing with Rectangle\n",
      "Area of Rectangle is 12\n",
      "Circumstance of Rectangle is 14\n",
      "You are dealing with Squre\n",
      "Area of Squre is 25\n",
      "Circumstance of Squre is 20\n",
      "You are dealing with Triangle\n",
      "Area of Triangle is 3764539.8125136094\n",
      "Circumstance of Triangle is 180\n",
      "\t\tInvalid Choice of Arguments\n",
      "You are dealing with Circle Area of Circle is 28.274333882308138 Circumstance of Circle is 18.84955592153876\n"
     ]
    }
   ],
   "source": [
    "from math import sqrt,pi\n",
    "a = Area(3)\n",
    "b = Area(3,4)\n",
    "c = Area(5,5)\n",
    "d = Area(60,60,60)\n",
    "e = Area(12,23,34,4,4,53,2,)\n",
    "print(a);print(b)\n",
    "print(c);print(d)\n",
    "print(e)\n",
    "print(repr(a))"
   ]
  },
  {
   "cell_type": "code",
   "execution_count": 3,
   "metadata": {},
   "outputs": [],
   "source": [
    "class Area:\n",
    "    def __init__(self,*args):\n",
    "        self.sides = args\n",
    "    def area(self):\n",
    "        if len(self.sides) == 1 : \n",
    "            return None\n",
    "        elif len(self.sides) == 2 : \n",
    "            return None\n",
    "        elif len(self.sides) == 3 : \n",
    "            return None\n",
    "        else : \n",
    "            return None\n",
    "    def cir(self):\n",
    "        if len(self.sides) == 1 : \n",
    "            return None\n",
    "        elif len(self.sides) == 2 : \n",
    "            return None\n",
    "        elif len(self.sides) == 3 : \n",
    "            return None\n",
    "        else : \n",
    "            return None\n",
    "    def name(self):\n",
    "        if len(self.sides) == 1 : \n",
    "            return 'Circle'\n",
    "        elif len(self.sides) == 2 :\n",
    "            if self.sides[0] == self.sides[1] : \n",
    "                return 'Squre'\n",
    "            else : \n",
    "                return 'Rectangle'\n",
    "        elif len(self.sides) == 3 : \n",
    "            return 'Triangle'\n",
    "        else : \n",
    "            return \"Polynomial\"\n",
    "        \n",
    "    def __str__(self):\n",
    "        area = self.area()\n",
    "        cir = self.cir()\n",
    "        name = self.name()\n",
    "        return \"\"\"\n",
    "        Object Type : {}\n",
    "        Area : {}\n",
    "        Circumstance : {}\n",
    "        \"\"\".format(name,area,cir)"
   ]
  },
  {
   "cell_type": "code",
   "execution_count": 4,
   "metadata": {},
   "outputs": [
    {
     "name": "stdout",
     "output_type": "stream",
     "text": [
      "\n",
      "        Object Type : Triangle\n",
      "        Area : None\n",
      "        Circumstance : None\n",
      "        \n",
      "\n",
      "        Object Type : Squre\n",
      "        Area : None\n",
      "        Circumstance : None\n",
      "        \n",
      "Triangle\n",
      "Squre\n"
     ]
    }
   ],
   "source": [
    "obj1 = Area(56,78,94)\n",
    "print(obj1)\n",
    "obj2 = Area(55,55)\n",
    "print(obj2)\n",
    "obj1.area()\n",
    "print(obj1.name())\n",
    "print(obj2.name())"
   ]
  },
  {
   "cell_type": "code",
   "execution_count": 5,
   "metadata": {},
   "outputs": [
    {
     "name": "stdout",
     "output_type": "stream",
     "text": [
      "Student\n",
      "name = x \n",
      "age = 18 \n",
      "email = x@y.com \n",
      "x\n",
      "y\n",
      "name = y \n",
      "age = 36 \n"
     ]
    }
   ],
   "source": [
    "class Student:\n",
    "    def __init__(self,**kwargs):\n",
    "        self.__dict__.update(kwargs)\n",
    "    def show(self):\n",
    "        for key,value in self.__dict__.items():\n",
    "            print(\"{} = {} \".format(key,value))\n",
    "    def update(self,**kwargs):\n",
    "        self.__dict__.update(kwargs)\n",
    "    def __repr__(self):\n",
    "        return self.__dict__.get('name','Student')        \n",
    "s1 = Student()\n",
    "print(s1)\n",
    "s2 = Student(name='x',age=18,email='x@y.com')\n",
    "s2.show()\n",
    "s1.show()\n",
    "print(s2)\n",
    "s1.update(name='y',age='36')\n",
    "print(s1)\n",
    "s1.show()"
   ]
  },
  {
   "cell_type": "code",
   "execution_count": 6,
   "metadata": {},
   "outputs": [
    {
     "name": "stdout",
     "output_type": "stream",
     "text": [
      "maths = 60 \n",
      "science = 35 \n",
      "english = 60 \n",
      "name = john \n",
      "standard = 12A \n",
      "True\n",
      "True\n",
      "True\n",
      "None\n",
      "maths = 60 \n",
      "science = 35 \n",
      "english = 60 \n",
      "name = john \n",
      "standard = 12A \n",
      "email = grras@gamil.com \n",
      "grras@gamil.com\n",
      "False\n",
      "True\n"
     ]
    }
   ],
   "source": [
    "class Result(Student):\n",
    "    def __init__(self,maths,science,english,**kwargs):\n",
    "        self.maths = maths\n",
    "        self.science = science\n",
    "        self.english = english\n",
    "        super().__init__(**kwargs)\n",
    "x = Result(maths=60,science=35,english=60,name='john',standard='12A')\n",
    "x.show()\n",
    "print(hasattr(Student,'show'))\n",
    "print(hasattr(x,'name'))\n",
    "print(hasattr(x,'show'))\n",
    "print(setattr(x,'email','grras@gamil.com'))\n",
    "x.show()\n",
    "print(getattr(x,'email'))\n",
    "print(issubclass(Student,Result))\n",
    "print(issubclass(Result,Student))"
   ]
  },
  {
   "cell_type": "code",
   "execution_count": null,
   "metadata": {},
   "outputs": [],
   "source": []
  }
 ],
 "metadata": {
  "kernelspec": {
   "display_name": "Python 3",
   "language": "python",
   "name": "python3"
  },
  "language_info": {
   "codemirror_mode": {
    "name": "ipython",
    "version": 3
   },
   "file_extension": ".py",
   "mimetype": "text/x-python",
   "name": "python",
   "nbconvert_exporter": "python",
   "pygments_lexer": "ipython3",
   "version": "3.7.6"
  }
 },
 "nbformat": 4,
 "nbformat_minor": 4
}
