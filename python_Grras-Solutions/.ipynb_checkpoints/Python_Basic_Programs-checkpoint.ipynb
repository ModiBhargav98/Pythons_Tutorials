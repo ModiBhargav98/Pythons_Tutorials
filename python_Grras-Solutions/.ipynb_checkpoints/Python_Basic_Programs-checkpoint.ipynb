{
 "cells": [
  {
   "cell_type": "code",
   "execution_count": 2,
   "metadata": {},
   "outputs": [
    {
     "name": "stdout",
     "output_type": "stream",
     "text": [
      "Enter first number: 8\n",
      "Enter second number: 9\n",
      "The sum of 8 and 9 is 17.0\n",
      "The subtraction of 8 and 9 is -1.0\n",
      "The multiplication of 8 and 9 is 72.0\n",
      "The division of 8 and 9 is 0.8888888888888888\n"
     ]
    }
   ],
   "source": [
    "num1 = input('Enter first number: ')  \n",
    "num2 = input('Enter second number: ')  \n",
    "  \n",
    "sum = float(num1) + float(num2)  \n",
    "  \n",
    "sub = float(num1) - float(num2)  \n",
    "  \n",
    "mul = float(num1) * float(num2)  \n",
    "  \n",
    "div = float(num1) / float(num2)  \n",
    "  \n",
    "print('The sum of {0} and {1} is {2}'.format(num1, num2, sum))  \n",
    "\n",
    "print('The subtraction of {0} and {1} is {2}'.format(num1, num2, sub))  \n",
    "  \n",
    "print('The multiplication of {0} and {1} is {2}'.format(num1, num2, mul))  \n",
    " \n",
    "print('The division of {0} and {1} is {2}'.format(num1, num2, div))  "
   ]
  },
  {
   "cell_type": "code",
   "execution_count": 4,
   "metadata": {},
   "outputs": [
    {
     "name": "stdout",
     "output_type": "stream",
     "text": [
      "Enter first side: 7.8\n",
      "Enter second side: 9\n",
      "Enter third side: 5\n",
      "The area of the triangle is 19.46\n",
      "The area of the triangle is 19.46242\n"
     ]
    }
   ],
   "source": [
    "# Three sides of the triangle is a, b and c:  \n",
    "a = float(input('Enter first side: '))  \n",
    "b = float(input('Enter second side: '))  \n",
    "c = float(input('Enter third side: '))  \n",
    "  \n",
    "# calculate the semi-perimeter  \n",
    "s = (a + b + c) / 2  \n",
    "  \n",
    "# calculate the area  \n",
    "area = (s*(s-a)*(s-b)*(s-c)) ** 0.5  \n",
    "print('The area of the triangle is %0.2f' %area)   \n",
    "print('The area of the triangle is %0.5f' %area)   "
   ]
  },
  {
   "cell_type": "code",
   "execution_count": 5,
   "metadata": {},
   "outputs": [
    {
     "name": "stdout",
     "output_type": "stream",
     "text": [
      "Enter a: 8\n",
      "Enter b: 9\n",
      "Enter c: 1\n",
      "The solution are (-1+0j) and (-0.125+0j)\n"
     ]
    }
   ],
   "source": [
    "# import complex math module  \n",
    "import cmath  \n",
    "a = float(input('Enter a: '))  \n",
    "b = float(input('Enter b: '))  \n",
    "c = float(input('Enter c: '))  \n",
    "  \n",
    "# calculate the discriminant  \n",
    "d = (b**2) - (4*a*c)  \n",
    "  \n",
    "# find two solutions  \n",
    "sol1 = (-b-cmath.sqrt(d))/(2*a)  \n",
    "sol2 = (-b+cmath.sqrt(d))/(2*a)  \n",
    "print('The solution are {0} and {1}'.format(sol1,sol2))   "
   ]
  },
  {
   "cell_type": "code",
   "execution_count": 10,
   "metadata": {},
   "outputs": [
    {
     "name": "stdout",
     "output_type": "stream",
     "text": [
      "Enter value of x: 6\n",
      "Enter value of y: 5\n",
      "The value of x after swapping: 5\n",
      "The value of y after swapping: 6\n"
     ]
    }
   ],
   "source": [
    "# Python swap program   \n",
    "x = input('Enter value of x: ')  \n",
    "y = input('Enter value of y: ')  \n",
    "  \n",
    "# create a temporary variable and swap the values  \n",
    "x , y = y, x\n",
    "  \n",
    "print('The value of x after swapping: {}'.format(x))  \n",
    "print('The value of y after swapping: {}'.format(y))  "
   ]
  },
  {
   "cell_type": "code",
   "execution_count": 1,
   "metadata": {},
   "outputs": [
    {
     "name": "stdout",
     "output_type": "stream",
     "text": [
      "How many kilometers?: 7.5\n",
      "7.500 kilometers is equal to 4.660 miles\n"
     ]
    }
   ],
   "source": [
    "# Collect input from the user  \n",
    "kilometers = float(input('How many kilometers?: '))  \n",
    "# conversion factor  \n",
    "conv_fac = 0.621371  \n",
    "# calculate miles  \n",
    "miles = kilometers * conv_fac  \n",
    "print('%0.3f kilometers is equal to %0.3f miles' %(kilometers,miles))  "
   ]
  },
  {
   "cell_type": "code",
   "execution_count": 2,
   "metadata": {},
   "outputs": [
    {
     "name": "stdout",
     "output_type": "stream",
     "text": [
      "Enter temperature in Celsius: 5\n",
      "5.0  Celsius is equal to 41.0 degree Fahrenheit\n"
     ]
    }
   ],
   "source": [
    "# Collect input from the user  \n",
    "celsius = float(input('Enter temperature in Celsius: '))  \n",
    "  \n",
    "# calculate temperature in Fahrenheit  \n",
    "fahrenheit = (celsius * 1.8) + 32  \n",
    "print('%0.1f  Celsius is equal to %0.1f degree Fahrenheit'%(celsius,fahrenheit))  "
   ]
  },
  {
   "cell_type": "code",
   "execution_count": 4,
   "metadata": {},
   "outputs": [
    {
     "name": "stdout",
     "output_type": "stream",
     "text": [
      "Enter year: 1998\n",
      "Enter month: 12\n",
      "   December 1998\n",
      "Mo Tu We Th Fr Sa Su\n",
      "    1  2  3  4  5  6\n",
      " 7  8  9 10 11 12 13\n",
      "14 15 16 17 18 19 20\n",
      "21 22 23 24 25 26 27\n",
      "28 29 30 31\n",
      "\n"
     ]
    }
   ],
   "source": [
    "import calendar  \n",
    "# Enter the month and year  \n",
    "yy = int(input(\"Enter year: \"))  \n",
    "mm = int(input(\"Enter month: \"))  \n",
    "  \n",
    "# display the calendar  \n",
    "print(calendar.month(yy,mm))  "
   ]
  },
  {
   "cell_type": "code",
   "execution_count": 6,
   "metadata": {},
   "outputs": [
    {
     "name": "stdout",
     "output_type": "stream",
     "text": [
      "palindrome number\n",
      "None\n"
     ]
    }
   ],
   "source": [
    "#palim drome number check this\n",
    "def palindrome(num):\n",
    "    x1 = num[::-1]\n",
    "    if x1 == num:\n",
    "        print(\"palindrome number\")\n",
    "    else:\n",
    "        print(\"Not a Palindrome number\")\n",
    "print(palindrome('151'))"
   ]
  },
  {
   "cell_type": "code",
   "execution_count": 7,
   "metadata": {},
   "outputs": [
    {
     "name": "stdout",
     "output_type": "stream",
     "text": [
      "120\n"
     ]
    }
   ],
   "source": [
    "#factorial of number\n",
    "def fact(num):\n",
    "    if num == 1:\n",
    "        return num\n",
    "    else:\n",
    "        return num * fact(num-1)\n",
    "print(fact(5))"
   ]
  },
  {
   "cell_type": "code",
   "execution_count": 10,
   "metadata": {},
   "outputs": [
    {
     "name": "stdout",
     "output_type": "stream",
     "text": [
      "enter the number:1\n",
      "enter the number:2\n",
      "enter the number of elements:6\n",
      "1 2 3 5 8 13 "
     ]
    }
   ],
   "source": [
    "#fibonacci series program in python\n",
    "a = int(input(\"enter the number:\"))\n",
    "b = int(input(\"enter the number:\"))\n",
    "n = int(input(\"enter the number of elements:\"))\n",
    "print(a,b,end=\" \")\n",
    "while n-2:\n",
    "    c = a+b\n",
    "    print(c,end=\" \")\n",
    "    a = b\n",
    "    b = c\n",
    "    n = n-1"
   ]
  },
  {
   "cell_type": "code",
   "execution_count": 16,
   "metadata": {},
   "outputs": [
    {
     "name": "stdout",
     "output_type": "stream",
     "text": [
      "enter the number:125\n",
      "not a armstrong number\n"
     ]
    }
   ],
   "source": [
    "#armstrong number program in python\n",
    "num = int(input(\"enter the number:\"))\n",
    "sum = 0\n",
    "temp = num\n",
    "while temp>0:\n",
    "    reminder = temp % 10\n",
    "    sum = sum + reminder ** 3\n",
    "    temp = temp // 10\n",
    "if num == sum :\n",
    "    print(\"armstrong number\")\n",
    "else:\n",
    "    print(\"not a armstrong number\")"
   ]
  },
  {
   "cell_type": "code",
   "execution_count": 3,
   "metadata": {},
   "outputs": [
    {
     "name": "stdout",
     "output_type": "stream",
     "text": [
      "enter the years2021\n",
      "Not a leap years\n"
     ]
    }
   ],
   "source": [
    "#leap year programm in python\n",
    "year = int(input(\"enter the years\"))\n",
    "if year % 400 == 0:\n",
    "    print(\"leap years\")\n",
    "elif year % 4 == 0:\n",
    "    print(\"leap years\")\n",
    "# elif year % 100 == 0:\n",
    "#     print(\"Not a leap years\")\n",
    "else:\n",
    "    print(\"Not a leap years\")"
   ]
  },
  {
   "cell_type": "code",
   "execution_count": 1,
   "metadata": {},
   "outputs": [
    {
     "name": "stdout",
     "output_type": "stream",
     "text": [
      "enter the number to be checked :-->12\n",
      "12 not a prime number\n",
      "12 not a prime number\n",
      "12 not a prime number\n",
      "12 prime number\n"
     ]
    }
   ],
   "source": [
    "n = int(input(\"enter the number to be checked :-->\"))\n",
    "for i in range(2,n):\n",
    "    if n % i == 0:\n",
    "        print(n,\"not a prime number\")\n",
    "        break\n",
    "    else:\n",
    "        print(n,\"prime number\")\n",
    "        break"
   ]
  },
  {
   "cell_type": "code",
   "execution_count": 6,
   "metadata": {},
   "outputs": [
    {
     "name": "stdout",
     "output_type": "stream",
     "text": [
      "1\n",
      "2\n",
      "3\n",
      "5\n",
      "7\n"
     ]
    }
   ],
   "source": [
    "# Python program to print all \n",
    "\n",
    "\n",
    "\n",
    "for i in range(1,10): \n",
    "    for j in range(2,i): \n",
    "        if(i % j==0): \n",
    "            break\n",
    "    else: \n",
    "        print(i) "
   ]
  },
  {
   "cell_type": "code",
   "execution_count": 9,
   "metadata": {},
   "outputs": [
    {
     "name": "stdout",
     "output_type": "stream",
     "text": [
      "6\n",
      "10\n"
     ]
    }
   ],
   "source": [
    "l = [5,6,10,9]\n",
    "max = l[0]\n",
    "n = len(l)\n",
    "for i in range(1,n):\n",
    "    if l[i] >= max:\n",
    "        max = l[i]\n",
    "        print(max)"
   ]
  },
  {
   "cell_type": "code",
   "execution_count": 11,
   "metadata": {},
   "outputs": [
    {
     "name": "stdout",
     "output_type": "stream",
     "text": [
      "Largest in given array is 9808\n"
     ]
    }
   ],
   "source": [
    "# Python3 program to find maximum \n",
    "# in arr[] of size n \n",
    "\n",
    "# python function to find maximum \n",
    "# in arr[] of size n \n",
    "def largest(l,n): \n",
    "\n",
    "\t# Initialize maximum element \n",
    "\tmax = l[0] \n",
    "\n",
    "\t# Traverse array elements from second \n",
    "\t# and compare every element with \n",
    "\t# current max \n",
    "\tfor i in range(1, n): \n",
    "\t\tif l[i] > max: \n",
    "\t\t\tmax = l[i] \n",
    "\treturn max\n",
    "\n",
    "# Driver Code \n",
    "l = [1000, 324, 45, 90, 980] \n",
    "n = len(l) \n",
    "Ans = largest(l,n) \n",
    "print (\"Largest in given array is\",Ans) \n",
    "\n",
    "# This code is contributed by Smitha Dinesh Semwal \n"
   ]
  },
  {
   "cell_type": "code",
   "execution_count": null,
   "metadata": {},
   "outputs": [],
   "source": []
  }
 ],
 "metadata": {
  "kernelspec": {
   "display_name": "Python 3",
   "language": "python",
   "name": "python3"
  },
  "language_info": {
   "codemirror_mode": {
    "name": "ipython",
    "version": 3
   },
   "file_extension": ".py",
   "mimetype": "text/x-python",
   "name": "python",
   "nbconvert_exporter": "python",
   "pygments_lexer": "ipython3",
   "version": "3.7.6"
  }
 },
 "nbformat": 4,
 "nbformat_minor": 4
}
