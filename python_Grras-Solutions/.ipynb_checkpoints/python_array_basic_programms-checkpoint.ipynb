{
 "cells": [
  {
   "cell_type": "code",
   "execution_count": 3,
   "metadata": {},
   "outputs": [
    {
     "name": "stdout",
     "output_type": "stream",
     "text": [
      "8 ---> 2\n",
      "4 ---> 2\n",
      "1 ---> 2\n",
      "6 ---> 2\n",
      "2 ---> 2\n",
      "9 ---> 2\n",
      "5 ---> 1\n",
      "7 ---> 1\n"
     ]
    }
   ],
   "source": [
    "# Python program to find the frequency of each element in the array\n",
    "l = [8,4,1,6,2,9,1,5,2,6,4,9,8,7]\n",
    "i = 0\n",
    "for j in l:\n",
    "    if(l.index(j) == i):\n",
    "        print(j,\"--->\",l.count(j))\n",
    "    i = i + 1"
   ]
  },
  {
   "cell_type": "code",
   "execution_count": 7,
   "metadata": {},
   "outputs": [
    {
     "name": "stdout",
     "output_type": "stream",
     "text": [
      "enter the namber:5\n",
      "1 enter name:\n",
      "mo\n",
      "2 enter name:\n",
      "je\n",
      "3 enter name:\n",
      "mo\n",
      "4 enter name:\n",
      "de\n",
      "5 enter name:\n",
      "tg\n",
      "je\n",
      "tg\n",
      "de\n",
      "mo\n"
     ]
    }
   ],
   "source": [
    "# Python program to remove the duplicate elements of an array\n",
    "names = []\n",
    "n = int(input(\"enter the namber:\"))\n",
    "for i in range(n):\n",
    "    print(i+1,\"enter name:\")\n",
    "    names.append(input())\n",
    "s = set(names)\n",
    "for j in s:\n",
    "    print(j)"
   ]
  },
  {
   "cell_type": "code",
   "execution_count": 11,
   "metadata": {},
   "outputs": [
    {
     "name": "stdout",
     "output_type": "stream",
     "text": [
      "None\n"
     ]
    }
   ],
   "source": [
    "a = [8,5,3,4,9]\n",
    "b = a.reverse()\n",
    "print(b)"
   ]
  },
  {
   "cell_type": "code",
   "execution_count": 12,
   "metadata": {},
   "outputs": [
    {
     "name": "stdout",
     "output_type": "stream",
     "text": [
      "['__add__', '__class__', '__contains__', '__delattr__', '__delitem__', '__dir__', '__doc__', '__eq__', '__format__', '__ge__', '__getattribute__', '__getitem__', '__gt__', '__hash__', '__iadd__', '__imul__', '__init__', '__init_subclass__', '__iter__', '__le__', '__len__', '__lt__', '__mul__', '__ne__', '__new__', '__reduce__', '__reduce_ex__', '__repr__', '__reversed__', '__rmul__', '__setattr__', '__setitem__', '__sizeof__', '__str__', '__subclasshook__', 'append', 'clear', 'copy', 'count', 'extend', 'index', 'insert', 'pop', 'remove', 'reverse', 'sort']\n"
     ]
    }
   ],
   "source": [
    "print(dir(list))"
   ]
  },
  {
   "cell_type": "code",
   "execution_count": null,
   "metadata": {},
   "outputs": [],
   "source": []
  }
 ],
 "metadata": {
  "kernelspec": {
   "display_name": "Python 3",
   "language": "python",
   "name": "python3"
  },
  "language_info": {
   "codemirror_mode": {
    "name": "ipython",
    "version": 3
   },
   "file_extension": ".py",
   "mimetype": "text/x-python",
   "name": "python",
   "nbconvert_exporter": "python",
   "pygments_lexer": "ipython3",
   "version": "3.7.6"
  }
 },
 "nbformat": 4,
 "nbformat_minor": 4
}
