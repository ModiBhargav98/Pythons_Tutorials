{
 "cells": [
  {
   "cell_type": "code",
   "execution_count": 2,
   "metadata": {},
   "outputs": [
    {
     "name": "stdout",
     "output_type": "stream",
     "text": [
      "[11, 13, 15]\n",
      "[17, 19, 21]\n",
      "[23, 25, 27]\n"
     ]
    }
   ],
   "source": [
    "X = [[1,2,3],  \n",
    "       [4,5,6],  \n",
    "       [7,8,9]]  \n",
    "  \n",
    "Y = [[10,11,12],  \n",
    "       [13,14,15],  \n",
    "       [16,17,18]]  \n",
    "  \n",
    "Result = [[0,0,0],  \n",
    "          [0,0,0],  \n",
    "          [0,0,0]]  \n",
    "# iterate through rows  \n",
    "for i in range(len(X)):  \n",
    "   # iterate through columns  \n",
    "   for j in range(len(X[0])):  \n",
    "        Result[i][j] = X[i][j] + Y[i][j]  \n",
    "for r in Result:  \n",
    "    print(r)"
   ]
  },
  {
   "cell_type": "code",
   "execution_count": null,
   "metadata": {},
   "outputs": [],
   "source": []
  }
 ],
 "metadata": {
  "kernelspec": {
   "display_name": "Python 3",
   "language": "python",
   "name": "python3"
  },
  "language_info": {
   "codemirror_mode": {
    "name": "ipython",
    "version": 3
   },
   "file_extension": ".py",
   "mimetype": "text/x-python",
   "name": "python",
   "nbconvert_exporter": "python",
   "pygments_lexer": "ipython3",
   "version": "3.7.6"
  }
 },
 "nbformat": 4,
 "nbformat_minor": 4
}
